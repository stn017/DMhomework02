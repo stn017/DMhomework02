{
 "cells": [
  {
   "cell_type": "markdown",
   "metadata": {},
   "source": [
    "# Data Sources"
   ]
  },
  {
   "cell_type": "raw",
   "metadata": {},
   "source": [
    "# import data"
   ]
  },
  {
   "cell_type": "code",
   "execution_count": 1,
   "metadata": {},
   "outputs": [
    {
     "data": {
      "text/html": [
       "<div>\n",
       "<style scoped>\n",
       "    .dataframe tbody tr th:only-of-type {\n",
       "        vertical-align: middle;\n",
       "    }\n",
       "\n",
       "    .dataframe tbody tr th {\n",
       "        vertical-align: top;\n",
       "    }\n",
       "\n",
       "    .dataframe thead th {\n",
       "        text-align: right;\n",
       "    }\n",
       "</style>\n",
       "<table border=\"1\" class=\"dataframe\">\n",
       "  <thead>\n",
       "    <tr style=\"text-align: right;\">\n",
       "      <th></th>\n",
       "      <th>country</th>\n",
       "      <th>description</th>\n",
       "      <th>designation</th>\n",
       "      <th>points</th>\n",
       "      <th>price</th>\n",
       "      <th>province</th>\n",
       "      <th>region_1</th>\n",
       "      <th>region_2</th>\n",
       "      <th>taster_name</th>\n",
       "      <th>taster_twitter_handle</th>\n",
       "      <th>title</th>\n",
       "      <th>variety</th>\n",
       "      <th>winery</th>\n",
       "    </tr>\n",
       "  </thead>\n",
       "  <tbody>\n",
       "    <tr>\n",
       "      <th>0</th>\n",
       "      <td>Italy</td>\n",
       "      <td>Aromas include tropical fruit, broom, brimston...</td>\n",
       "      <td>Vulkà Bianco</td>\n",
       "      <td>87</td>\n",
       "      <td>NaN</td>\n",
       "      <td>Sicily &amp; Sardinia</td>\n",
       "      <td>Etna</td>\n",
       "      <td>NaN</td>\n",
       "      <td>Kerin O’Keefe</td>\n",
       "      <td>@kerinokeefe</td>\n",
       "      <td>Nicosia 2013 Vulkà Bianco  (Etna)</td>\n",
       "      <td>White Blend</td>\n",
       "      <td>Nicosia</td>\n",
       "    </tr>\n",
       "    <tr>\n",
       "      <th>1</th>\n",
       "      <td>Portugal</td>\n",
       "      <td>This is ripe and fruity, a wine that is smooth...</td>\n",
       "      <td>Avidagos</td>\n",
       "      <td>87</td>\n",
       "      <td>15.0</td>\n",
       "      <td>Douro</td>\n",
       "      <td>NaN</td>\n",
       "      <td>NaN</td>\n",
       "      <td>Roger Voss</td>\n",
       "      <td>@vossroger</td>\n",
       "      <td>Quinta dos Avidagos 2011 Avidagos Red (Douro)</td>\n",
       "      <td>Portuguese Red</td>\n",
       "      <td>Quinta dos Avidagos</td>\n",
       "    </tr>\n",
       "    <tr>\n",
       "      <th>2</th>\n",
       "      <td>US</td>\n",
       "      <td>Tart and snappy, the flavors of lime flesh and...</td>\n",
       "      <td>NaN</td>\n",
       "      <td>87</td>\n",
       "      <td>14.0</td>\n",
       "      <td>Oregon</td>\n",
       "      <td>Willamette Valley</td>\n",
       "      <td>Willamette Valley</td>\n",
       "      <td>Paul Gregutt</td>\n",
       "      <td>@paulgwine</td>\n",
       "      <td>Rainstorm 2013 Pinot Gris (Willamette Valley)</td>\n",
       "      <td>Pinot Gris</td>\n",
       "      <td>Rainstorm</td>\n",
       "    </tr>\n",
       "    <tr>\n",
       "      <th>3</th>\n",
       "      <td>US</td>\n",
       "      <td>Pineapple rind, lemon pith and orange blossom ...</td>\n",
       "      <td>Reserve Late Harvest</td>\n",
       "      <td>87</td>\n",
       "      <td>13.0</td>\n",
       "      <td>Michigan</td>\n",
       "      <td>Lake Michigan Shore</td>\n",
       "      <td>NaN</td>\n",
       "      <td>Alexander Peartree</td>\n",
       "      <td>NaN</td>\n",
       "      <td>St. Julian 2013 Reserve Late Harvest Riesling ...</td>\n",
       "      <td>Riesling</td>\n",
       "      <td>St. Julian</td>\n",
       "    </tr>\n",
       "    <tr>\n",
       "      <th>4</th>\n",
       "      <td>US</td>\n",
       "      <td>Much like the regular bottling from 2012, this...</td>\n",
       "      <td>Vintner's Reserve Wild Child Block</td>\n",
       "      <td>87</td>\n",
       "      <td>65.0</td>\n",
       "      <td>Oregon</td>\n",
       "      <td>Willamette Valley</td>\n",
       "      <td>Willamette Valley</td>\n",
       "      <td>Paul Gregutt</td>\n",
       "      <td>@paulgwine</td>\n",
       "      <td>Sweet Cheeks 2012 Vintner's Reserve Wild Child...</td>\n",
       "      <td>Pinot Noir</td>\n",
       "      <td>Sweet Cheeks</td>\n",
       "    </tr>\n",
       "    <tr>\n",
       "      <th>...</th>\n",
       "      <td>...</td>\n",
       "      <td>...</td>\n",
       "      <td>...</td>\n",
       "      <td>...</td>\n",
       "      <td>...</td>\n",
       "      <td>...</td>\n",
       "      <td>...</td>\n",
       "      <td>...</td>\n",
       "      <td>...</td>\n",
       "      <td>...</td>\n",
       "      <td>...</td>\n",
       "      <td>...</td>\n",
       "      <td>...</td>\n",
       "    </tr>\n",
       "    <tr>\n",
       "      <th>129966</th>\n",
       "      <td>Germany</td>\n",
       "      <td>Notes of honeysuckle and cantaloupe sweeten th...</td>\n",
       "      <td>Brauneberger Juffer-Sonnenuhr Spätlese</td>\n",
       "      <td>90</td>\n",
       "      <td>28.0</td>\n",
       "      <td>Mosel</td>\n",
       "      <td>NaN</td>\n",
       "      <td>NaN</td>\n",
       "      <td>Anna Lee C. Iijima</td>\n",
       "      <td>NaN</td>\n",
       "      <td>Dr. H. Thanisch (Erben Müller-Burggraef) 2013 ...</td>\n",
       "      <td>Riesling</td>\n",
       "      <td>Dr. H. Thanisch (Erben Müller-Burggraef)</td>\n",
       "    </tr>\n",
       "    <tr>\n",
       "      <th>129967</th>\n",
       "      <td>US</td>\n",
       "      <td>Citation is given as much as a decade of bottl...</td>\n",
       "      <td>NaN</td>\n",
       "      <td>90</td>\n",
       "      <td>75.0</td>\n",
       "      <td>Oregon</td>\n",
       "      <td>Oregon</td>\n",
       "      <td>Oregon Other</td>\n",
       "      <td>Paul Gregutt</td>\n",
       "      <td>@paulgwine</td>\n",
       "      <td>Citation 2004 Pinot Noir (Oregon)</td>\n",
       "      <td>Pinot Noir</td>\n",
       "      <td>Citation</td>\n",
       "    </tr>\n",
       "    <tr>\n",
       "      <th>129968</th>\n",
       "      <td>France</td>\n",
       "      <td>Well-drained gravel soil gives this wine its c...</td>\n",
       "      <td>Kritt</td>\n",
       "      <td>90</td>\n",
       "      <td>30.0</td>\n",
       "      <td>Alsace</td>\n",
       "      <td>Alsace</td>\n",
       "      <td>NaN</td>\n",
       "      <td>Roger Voss</td>\n",
       "      <td>@vossroger</td>\n",
       "      <td>Domaine Gresser 2013 Kritt Gewurztraminer (Als...</td>\n",
       "      <td>Gewürztraminer</td>\n",
       "      <td>Domaine Gresser</td>\n",
       "    </tr>\n",
       "    <tr>\n",
       "      <th>129969</th>\n",
       "      <td>France</td>\n",
       "      <td>A dry style of Pinot Gris, this is crisp with ...</td>\n",
       "      <td>NaN</td>\n",
       "      <td>90</td>\n",
       "      <td>32.0</td>\n",
       "      <td>Alsace</td>\n",
       "      <td>Alsace</td>\n",
       "      <td>NaN</td>\n",
       "      <td>Roger Voss</td>\n",
       "      <td>@vossroger</td>\n",
       "      <td>Domaine Marcel Deiss 2012 Pinot Gris (Alsace)</td>\n",
       "      <td>Pinot Gris</td>\n",
       "      <td>Domaine Marcel Deiss</td>\n",
       "    </tr>\n",
       "    <tr>\n",
       "      <th>129970</th>\n",
       "      <td>France</td>\n",
       "      <td>Big, rich and off-dry, this is powered by inte...</td>\n",
       "      <td>Lieu-dit Harth Cuvée Caroline</td>\n",
       "      <td>90</td>\n",
       "      <td>21.0</td>\n",
       "      <td>Alsace</td>\n",
       "      <td>Alsace</td>\n",
       "      <td>NaN</td>\n",
       "      <td>Roger Voss</td>\n",
       "      <td>@vossroger</td>\n",
       "      <td>Domaine Schoffit 2012 Lieu-dit Harth Cuvée Car...</td>\n",
       "      <td>Gewürztraminer</td>\n",
       "      <td>Domaine Schoffit</td>\n",
       "    </tr>\n",
       "  </tbody>\n",
       "</table>\n",
       "<p>129971 rows × 13 columns</p>\n",
       "</div>"
      ],
      "text/plain": [
       "         country                                        description  \\\n",
       "0          Italy  Aromas include tropical fruit, broom, brimston...   \n",
       "1       Portugal  This is ripe and fruity, a wine that is smooth...   \n",
       "2             US  Tart and snappy, the flavors of lime flesh and...   \n",
       "3             US  Pineapple rind, lemon pith and orange blossom ...   \n",
       "4             US  Much like the regular bottling from 2012, this...   \n",
       "...          ...                                                ...   \n",
       "129966   Germany  Notes of honeysuckle and cantaloupe sweeten th...   \n",
       "129967        US  Citation is given as much as a decade of bottl...   \n",
       "129968    France  Well-drained gravel soil gives this wine its c...   \n",
       "129969    France  A dry style of Pinot Gris, this is crisp with ...   \n",
       "129970    France  Big, rich and off-dry, this is powered by inte...   \n",
       "\n",
       "                                   designation  points  price  \\\n",
       "0                                 Vulkà Bianco      87    NaN   \n",
       "1                                     Avidagos      87   15.0   \n",
       "2                                          NaN      87   14.0   \n",
       "3                         Reserve Late Harvest      87   13.0   \n",
       "4           Vintner's Reserve Wild Child Block      87   65.0   \n",
       "...                                        ...     ...    ...   \n",
       "129966  Brauneberger Juffer-Sonnenuhr Spätlese      90   28.0   \n",
       "129967                                     NaN      90   75.0   \n",
       "129968                                   Kritt      90   30.0   \n",
       "129969                                     NaN      90   32.0   \n",
       "129970           Lieu-dit Harth Cuvée Caroline      90   21.0   \n",
       "\n",
       "                 province             region_1           region_2  \\\n",
       "0       Sicily & Sardinia                 Etna                NaN   \n",
       "1                   Douro                  NaN                NaN   \n",
       "2                  Oregon    Willamette Valley  Willamette Valley   \n",
       "3                Michigan  Lake Michigan Shore                NaN   \n",
       "4                  Oregon    Willamette Valley  Willamette Valley   \n",
       "...                   ...                  ...                ...   \n",
       "129966              Mosel                  NaN                NaN   \n",
       "129967             Oregon               Oregon       Oregon Other   \n",
       "129968             Alsace               Alsace                NaN   \n",
       "129969             Alsace               Alsace                NaN   \n",
       "129970             Alsace               Alsace                NaN   \n",
       "\n",
       "               taster_name taster_twitter_handle  \\\n",
       "0            Kerin O’Keefe          @kerinokeefe   \n",
       "1               Roger Voss            @vossroger   \n",
       "2             Paul Gregutt           @paulgwine    \n",
       "3       Alexander Peartree                   NaN   \n",
       "4             Paul Gregutt           @paulgwine    \n",
       "...                    ...                   ...   \n",
       "129966  Anna Lee C. Iijima                   NaN   \n",
       "129967        Paul Gregutt           @paulgwine    \n",
       "129968          Roger Voss            @vossroger   \n",
       "129969          Roger Voss            @vossroger   \n",
       "129970          Roger Voss            @vossroger   \n",
       "\n",
       "                                                    title         variety  \\\n",
       "0                       Nicosia 2013 Vulkà Bianco  (Etna)     White Blend   \n",
       "1           Quinta dos Avidagos 2011 Avidagos Red (Douro)  Portuguese Red   \n",
       "2           Rainstorm 2013 Pinot Gris (Willamette Valley)      Pinot Gris   \n",
       "3       St. Julian 2013 Reserve Late Harvest Riesling ...        Riesling   \n",
       "4       Sweet Cheeks 2012 Vintner's Reserve Wild Child...      Pinot Noir   \n",
       "...                                                   ...             ...   \n",
       "129966  Dr. H. Thanisch (Erben Müller-Burggraef) 2013 ...        Riesling   \n",
       "129967                  Citation 2004 Pinot Noir (Oregon)      Pinot Noir   \n",
       "129968  Domaine Gresser 2013 Kritt Gewurztraminer (Als...  Gewürztraminer   \n",
       "129969      Domaine Marcel Deiss 2012 Pinot Gris (Alsace)      Pinot Gris   \n",
       "129970  Domaine Schoffit 2012 Lieu-dit Harth Cuvée Car...  Gewürztraminer   \n",
       "\n",
       "                                          winery  \n",
       "0                                        Nicosia  \n",
       "1                            Quinta dos Avidagos  \n",
       "2                                      Rainstorm  \n",
       "3                                     St. Julian  \n",
       "4                                   Sweet Cheeks  \n",
       "...                                          ...  \n",
       "129966  Dr. H. Thanisch (Erben Müller-Burggraef)  \n",
       "129967                                  Citation  \n",
       "129968                           Domaine Gresser  \n",
       "129969                      Domaine Marcel Deiss  \n",
       "129970                          Domaine Schoffit  \n",
       "\n",
       "[129971 rows x 13 columns]"
      ]
     },
     "execution_count": 1,
     "metadata": {},
     "output_type": "execute_result"
    }
   ],
   "source": [
    "import pandas as pd\n",
    "import matplotlib.pyplot as plt\n",
    "import numpy as np\n",
    "wine_reviews = pd.read_csv(\"./data/winemag-data-130k-v2.csv\", index_col=0)\n",
    "wine_reviews"
   ]
  },
  {
   "cell_type": "markdown",
   "metadata": {},
   "source": [
    "# Transform into a form suitable for mining association rules"
   ]
  },
  {
   "cell_type": "raw",
   "metadata": {},
   "source": [
    "# For 129,971 data items, set minsup = 1200"
   ]
  },
  {
   "cell_type": "code",
   "execution_count": 2,
   "metadata": {},
   "outputs": [],
   "source": [
    "minsup = 1200"
   ]
  },
  {
   "cell_type": "raw",
   "metadata": {},
   "source": [
    "# Nominal type："
   ]
  },
  {
   "cell_type": "raw",
   "metadata": {},
   "source": [
    "# For nominal type, use a specific integer to represent the frequent value of each column. For numeric type, use a specific integer to represent a range of value."
   ]
  },
  {
   "cell_type": "raw",
   "metadata": {},
   "source": [
    "# country"
   ]
  },
  {
   "cell_type": "code",
   "execution_count": 3,
   "metadata": {},
   "outputs": [
    {
     "data": {
      "text/plain": [
       "country\n",
       "South Africa     1401\n",
       "New Zealand      1419\n",
       "Germany          2165\n",
       "Australia        2329\n",
       "Austria          3345\n",
       "Argentina        3800\n",
       "Chile            4472\n",
       "Portugal         5691\n",
       "Spain            6645\n",
       "Italy           19540\n",
       "France          22093\n",
       "US              54504\n",
       "Name: country, dtype: int64"
      ]
     },
     "execution_count": 3,
     "metadata": {},
     "output_type": "execute_result"
    }
   ],
   "source": [
    "country_filter_reviews = wine_reviews.groupby('country').filter(lambda x: len(x) >= minsup)\n",
    "country_reviews = country_filter_reviews.groupby('country').country.count().sort_values()\n",
    "country_reviews"
   ]
  },
  {
   "cell_type": "code",
   "execution_count": 4,
   "metadata": {},
   "outputs": [
    {
     "data": {
      "text/plain": [
       "<matplotlib.axes._subplots.AxesSubplot at 0x12ba6c53ac0>"
      ]
     },
     "execution_count": 4,
     "metadata": {},
     "output_type": "execute_result"
    },
    {
     "data": {
      "image/png": "[encoded data removed]",
      "text/plain": [
       "<Figure size 432x288 with 1 Axes>"
      ]
     },
     "metadata": {
      "needs_background": "light"
     },
     "output_type": "display_data"
    }
   ],
   "source": [
    "country_reviews.plot.bar()"
   ]
  },
  {
   "cell_type": "raw",
   "metadata": {},
   "source": [
    "# US = 1 France = 2 Italy = 3 Spain = 4 Portugal = 5 Chile = 6 Argentina = 7 Austria = 8 Australia = 9 Germany = 10 New Zealand = 11 South Africa =12 Others = 0"
   ]
  },
  {
   "cell_type": "code",
   "execution_count": 5,
   "metadata": {},
   "outputs": [],
   "source": [
    "country_max = 12"
   ]
  },
  {
   "cell_type": "code",
   "execution_count": 6,
   "metadata": {},
   "outputs": [],
   "source": [
    "def judge_country(country):\n",
    "    if country == 'US':\n",
    "        return 1\n",
    "    elif country == 'France':\n",
    "        return 2\n",
    "    elif country == 'Italy':\n",
    "        return 3\n",
    "    elif country == 'Spain':\n",
    "        return 4\n",
    "    elif country == 'Portugal':\n",
    "        return 5\n",
    "    elif country == 'Chile':\n",
    "        return 6\n",
    "    elif country == 'Argentina':\n",
    "        return 7\n",
    "    elif country == 'Austria':\n",
    "        return 8\n",
    "    elif country == 'Australia':\n",
    "        return 9\n",
    "    elif country == 'Germany':\n",
    "        return 10\n",
    "    elif country == 'New Zealand':\n",
    "        return 11\n",
    "    elif country == 'South Africa':\n",
    "        return 12\n",
    "    else:\n",
    "        return 0\n",
    "\n",
    "wine_reviews['country_trans'] = wine_reviews['country'].apply(judge_country)"
   ]
  },
  {
   "cell_type": "raw",
   "metadata": {},
   "source": [
    "# designation"
   ]
  },
  {
   "cell_type": "code",
   "execution_count": 7,
   "metadata": {},
   "outputs": [
    {
     "data": {
      "text/plain": [
       "designation\n",
       "Reserva    1259\n",
       "Estate     1322\n",
       "Reserve    2009\n",
       "Name: designation, dtype: int64"
      ]
     },
     "execution_count": 7,
     "metadata": {},
     "output_type": "execute_result"
    }
   ],
   "source": [
    "designation_filter_reviews = wine_reviews.groupby('designation').filter(lambda x: len(x) >= minsup)\n",
    "designation_reviews = designation_filter_reviews.groupby('designation').designation.count().sort_values()\n",
    "designation_reviews"
   ]
  },
  {
   "cell_type": "code",
   "execution_count": 8,
   "metadata": {},
   "outputs": [
    {
     "data": {
      "text/plain": [
       "<matplotlib.axes._subplots.AxesSubplot at 0x12ba6d4beb0>"
      ]
     },
     "execution_count": 8,
     "metadata": {},
     "output_type": "execute_result"
    },
    {
     "data": {
      "image/png": "[encoded data removed]",
      "text/plain": [
       "<Figure size 432x288 with 1 Axes>"
      ]
     },
     "metadata": {
      "needs_background": "light"
     },
     "output_type": "display_data"
    }
   ],
   "source": [
    "designation_reviews.plot.bar()"
   ]
  },
  {
   "cell_type": "raw",
   "metadata": {},
   "source": [
    "# Reserve = 1 Estate = 2 Reserva = 3 Others = 0"
   ]
  },
  {
   "cell_type": "code",
   "execution_count": 9,
   "metadata": {},
   "outputs": [],
   "source": [
    "designation_max = 3"
   ]
  },
  {
   "cell_type": "code",
   "execution_count": 10,
   "metadata": {},
   "outputs": [],
   "source": [
    "def judge_designation(designation):\n",
    "    if designation == 'Reserve':\n",
    "        return 1\n",
    "    elif designation == 'Estate':\n",
    "        return 2\n",
    "    elif designation == 'Reserva':\n",
    "        return 3\n",
    "    else:\n",
    "        return 0\n",
    "\n",
    "wine_reviews['designation_trans'] = wine_reviews['designation'].apply(judge_designation)"
   ]
  },
  {
   "cell_type": "raw",
   "metadata": {},
   "source": [
    "# province"
   ]
  },
  {
   "cell_type": "code",
   "execution_count": 11,
   "metadata": {},
   "outputs": [
    {
     "data": {
      "text/plain": [
       "province\n",
       "Central Italy          1233\n",
       "Douro                  1281\n",
       "Provence               1346\n",
       "Southern Italy         1349\n",
       "South Australia        1349\n",
       "Southwest France       1503\n",
       "Champagne              1613\n",
       "Sicily & Sardinia      1797\n",
       "Loire Valley           1856\n",
       "Northeastern Italy     2138\n",
       "Alsace                 2440\n",
       "New York               2688\n",
       "Veneto                 2716\n",
       "Mendoza Province       3264\n",
       "Piedmont               3729\n",
       "Northern Spain         3851\n",
       "Burgundy               3980\n",
       "Oregon                 5373\n",
       "Tuscany                5897\n",
       "Bordeaux               5941\n",
       "Washington             8639\n",
       "California            36247\n",
       "Name: province, dtype: int64"
      ]
     },
     "execution_count": 11,
     "metadata": {},
     "output_type": "execute_result"
    }
   ],
   "source": [
    "province_filter_reviews = wine_reviews.groupby('province').filter(lambda x: len(x) >= minsup)\n",
    "province_reviews = province_filter_reviews.groupby('province').province.count().sort_values()\n",
    "province_reviews"
   ]
  },
  {
   "cell_type": "code",
   "execution_count": 12,
   "metadata": {},
   "outputs": [
    {
     "data": {
      "text/plain": [
       "<matplotlib.axes._subplots.AxesSubplot at 0x12ba6de6c40>"
      ]
     },
     "execution_count": 12,
     "metadata": {},
     "output_type": "execute_result"
    },
    {
     "data": {
      "image/png": "[encoded data removed]",
      "text/plain": [
       "<Figure size 432x288 with 1 Axes>"
      ]
     },
     "metadata": {
      "needs_background": "light"
     },
     "output_type": "display_data"
    }
   ],
   "source": [
    "province_reviews.plot.bar()"
   ]
  },
  {
   "cell_type": "raw",
   "metadata": {},
   "source": [
    "# California = 1 Washington = 2 Bordeaux = 3 Tuscany = 4 Oregon = 5 Burgundy = 6 Northern Spain = 7 Piedmont = 8 Mendoza Province = 9 Veneto = 10 New York = 11 Alsace = 12 Northeastern Italy = 13 Loire Valley = 14 Sicily & Sardinia = 15 Champagne = 16 Southwest France = 17 South Australia = 18 Southern Italy = 19 Provence = 20 Douro = 21 Central Italy = 22 Others = 0"
   ]
  },
  {
   "cell_type": "code",
   "execution_count": 13,
   "metadata": {},
   "outputs": [],
   "source": [
    "province_max = 22"
   ]
  },
  {
   "cell_type": "code",
   "execution_count": 14,
   "metadata": {},
   "outputs": [],
   "source": [
    "def judge_province(province):\n",
    "    if province == 'California':\n",
    "        return 1\n",
    "    elif province == 'Washington':\n",
    "        return 2\n",
    "    elif province == 'Bordeaux':\n",
    "        return 3\n",
    "    elif province == 'Tuscany':\n",
    "        return 4\n",
    "    elif province == 'Oregon':\n",
    "        return 5\n",
    "    elif province == 'Burgundy':\n",
    "        return 6\n",
    "    elif province == 'Northern Spain':\n",
    "        return 7\n",
    "    elif province == 'Piedmont':\n",
    "        return 8\n",
    "    elif province == 'Mendoza Province':\n",
    "        return 9\n",
    "    elif province == 'Veneto':\n",
    "        return 10\n",
    "    elif province == 'New York':\n",
    "        return 11\n",
    "    elif province == 'Alsace':\n",
    "        return 12\n",
    "    elif province == 'Northeastern Italy':\n",
    "        return 13\n",
    "    elif province == 'Loire Valley':\n",
    "        return 14\n",
    "    elif province == 'Sicily & Sardinia':\n",
    "        return 15\n",
    "    elif province == 'Champagne':\n",
    "        return 16\n",
    "    elif province == 'Southwest France':\n",
    "        return 17\n",
    "    elif province == 'South Australia':\n",
    "        return 18\n",
    "    elif province == 'Southern Italy':\n",
    "        return 19\n",
    "    elif province == 'Provence':\n",
    "        return 20\n",
    "    elif province == 'Douro':\n",
    "        return 21\n",
    "    elif province == 'Central Italy':\n",
    "        return 22\n",
    "    else:\n",
    "        return 0\n",
    "\n",
    "wine_reviews['province_trans'] = wine_reviews['province'].apply(judge_province)"
   ]
  },
  {
   "cell_type": "raw",
   "metadata": {},
   "source": [
    "# region_1"
   ]
  },
  {
   "cell_type": "code",
   "execution_count": 15,
   "metadata": {},
   "outputs": [
    {
     "data": {
      "text/plain": [
       "region_1\n",
       "Sonoma County             1246\n",
       "Rioja                     1469\n",
       "Brunello di Montalcino    1470\n",
       "Sonoma Coast              1474\n",
       "Finger Lakes              1565\n",
       "Barolo                    1599\n",
       "Champagne                 1613\n",
       "Alsace                    2163\n",
       "Mendoza                   2301\n",
       "Willamette Valley         2301\n",
       "Paso Robles               2350\n",
       "California                2629\n",
       "Russian River Valley      3091\n",
       "Columbia Valley (WA)      4124\n",
       "Napa Valley               4480\n",
       "Name: region_1, dtype: int64"
      ]
     },
     "execution_count": 15,
     "metadata": {},
     "output_type": "execute_result"
    }
   ],
   "source": [
    "region_1_filter_reviews = wine_reviews.groupby('region_1').filter(lambda x: len(x) >= minsup)\n",
    "region_1_reviews = region_1_filter_reviews.groupby('region_1').region_1.count().sort_values()\n",
    "region_1_reviews"
   ]
  },
  {
   "cell_type": "code",
   "execution_count": 16,
   "metadata": {},
   "outputs": [
    {
     "data": {
      "text/plain": [
       "<matplotlib.axes._subplots.AxesSubplot at 0x12ba6e926a0>"
      ]
     },
     "execution_count": 16,
     "metadata": {},
     "output_type": "execute_result"
    },
    {
     "data": {
      "image/png": "[encoded data removed]",
      "text/plain": [
       "<Figure size 432x288 with 1 Axes>"
      ]
     },
     "metadata": {
      "needs_background": "light"
     },
     "output_type": "display_data"
    }
   ],
   "source": [
    "region_1_reviews.plot.bar()"
   ]
  },
  {
   "cell_type": "raw",
   "metadata": {},
   "source": [
    "# Napa Valley = 1 Columbia Valley (WA) = 2 Russian River Valley = 3 California = 4 Paso Robles = 5 Mendoza = 6 Willamette Valley = 7 Alsace = 8 Champagne = 9 Barolo = 10 Finger Lakes = 11 Sonoma Coast = 12 Brunello di Montalcino = 13 Rioja = 14 Sonoma County = 15 Others = 0"
   ]
  },
  {
   "cell_type": "code",
   "execution_count": 17,
   "metadata": {},
   "outputs": [],
   "source": [
    "region_1_max = 15"
   ]
  },
  {
   "cell_type": "code",
   "execution_count": 18,
   "metadata": {},
   "outputs": [],
   "source": [
    "def judge_region_1(region_1):\n",
    "    if region_1 == 'Napa Valley':\n",
    "        return 1\n",
    "    elif region_1 == 'Columbia Valley (WA)':\n",
    "        return 2\n",
    "    elif region_1 == 'Russian River Valley':\n",
    "        return 3\n",
    "    elif region_1 == 'California':\n",
    "        return 4\n",
    "    elif region_1 == 'Paso Robles':\n",
    "        return 5\n",
    "    elif region_1 == 'Mendoza':\n",
    "        return 6\n",
    "    elif region_1 == 'Willamette Valley':\n",
    "        return 7\n",
    "    elif region_1 == 'Alsace':\n",
    "        return 8\n",
    "    elif region_1 == 'Champagne':\n",
    "        return 9\n",
    "    elif region_1 == 'Barolo':\n",
    "        return 10\n",
    "    elif region_1 == 'Finger Lakes':\n",
    "        return 11\n",
    "    elif region_1 == 'Sonoma Coast':\n",
    "        return 12\n",
    "    elif region_1 == 'Brunello di Montalcino':\n",
    "        return 13\n",
    "    elif region_1 == 'Rioja':\n",
    "        return 14\n",
    "    elif region_1 == 'Sonoma County':\n",
    "        return 15    \n",
    "    else:\n",
    "        return 0\n",
    "\n",
    "wine_reviews['region_1_trans'] = wine_reviews['region_1'].apply(judge_region_1)"
   ]
  },
  {
   "cell_type": "raw",
   "metadata": {},
   "source": [
    "# region_2"
   ]
  },
  {
   "cell_type": "code",
   "execution_count": 19,
   "metadata": {},
   "outputs": [
    {
     "data": {
      "text/plain": [
       "region_2\n",
       "Sierra Foothills      1462\n",
       "Finger Lakes          1777\n",
       "California Other      2663\n",
       "Willamette Valley     3423\n",
       "Napa                  6814\n",
       "Columbia Valley       8103\n",
       "Sonoma                9028\n",
       "Central Coast        11065\n",
       "Name: region_2, dtype: int64"
      ]
     },
     "execution_count": 19,
     "metadata": {},
     "output_type": "execute_result"
    }
   ],
   "source": [
    "region_2_filter_reviews = wine_reviews.groupby('region_2').filter(lambda x: len(x) >= minsup)\n",
    "region_2_reviews = region_2_filter_reviews.groupby('region_2').region_2.count().sort_values()\n",
    "region_2_reviews"
   ]
  },
  {
   "cell_type": "code",
   "execution_count": 20,
   "metadata": {},
   "outputs": [
    {
     "data": {
      "text/plain": [
       "<matplotlib.axes._subplots.AxesSubplot at 0x12ba703d070>"
      ]
     },
     "execution_count": 20,
     "metadata": {},
     "output_type": "execute_result"
    },
    {
     "data": {
      "image/png": "[encoded data removed]",
      "text/plain": [
       "<Figure size 432x288 with 1 Axes>"
      ]
     },
     "metadata": {
      "needs_background": "light"
     },
     "output_type": "display_data"
    }
   ],
   "source": [
    "region_2_reviews.plot.bar()"
   ]
  },
  {
   "cell_type": "raw",
   "metadata": {},
   "source": [
    "# Central Coast = 1 Sonoma = 2 Columbia Valley = 3 Napa = 4 Willamette Valley = 5 California Other = 6 Finger Lakes = 7 Sierra Foothills = 8 Others = 0"
   ]
  },
  {
   "cell_type": "code",
   "execution_count": 21,
   "metadata": {},
   "outputs": [],
   "source": [
    "region_2_max = 8"
   ]
  },
  {
   "cell_type": "code",
   "execution_count": 22,
   "metadata": {},
   "outputs": [],
   "source": [
    "def judge_region_2(region_2):\n",
    "    if region_2 == 'Central Coast':\n",
    "        return 1\n",
    "    elif region_2 == 'Sonoma':\n",
    "        return 2\n",
    "    elif region_2 == 'Columbia Valley':\n",
    "        return 3\n",
    "    elif region_2 == 'Napa':\n",
    "        return 4\n",
    "    elif region_2 == 'Willamette Valley':\n",
    "        return 5\n",
    "    elif region_2 == 'California Other':\n",
    "        return 6\n",
    "    elif region_2 == 'Finger Lakes':\n",
    "        return 7\n",
    "    elif region_2 == 'Sierra Foothills':\n",
    "        return 8\n",
    "    else:\n",
    "        return 0\n",
    "\n",
    "wine_reviews['region_2_trans'] = wine_reviews['region_2'].apply(judge_region_2)"
   ]
  },
  {
   "cell_type": "raw",
   "metadata": {},
   "source": [
    "# taster_name"
   ]
  },
  {
   "cell_type": "code",
   "execution_count": 23,
   "metadata": {},
   "outputs": [
    {
     "data": {
      "text/plain": [
       "taster_name\n",
       "Lauren Buzzeo          1835\n",
       "Anne Krebiehl MW       3685\n",
       "Jim Gordon             4177\n",
       "Anna Lee C. Iijima     4415\n",
       "Sean P. Sullivan       4966\n",
       "Joe Czerwinski         5147\n",
       "Matt Kettmann          6332\n",
       "Paul Gregutt           9532\n",
       "Virginie Boone         9537\n",
       "Kerin O’Keefe         10776\n",
       "Michael Schachner     15134\n",
       "Roger Voss            25514\n",
       "Name: taster_name, dtype: int64"
      ]
     },
     "execution_count": 23,
     "metadata": {},
     "output_type": "execute_result"
    }
   ],
   "source": [
    "taster_name_filter_reviews = wine_reviews.groupby('taster_name').filter(lambda x: len(x) >= minsup)\n",
    "taster_name_reviews = taster_name_filter_reviews.groupby('taster_name').taster_name.count().sort_values()\n",
    "taster_name_reviews"
   ]
  },
  {
   "cell_type": "code",
   "execution_count": 24,
   "metadata": {},
   "outputs": [
    {
     "data": {
      "text/plain": [
       "<matplotlib.axes._subplots.AxesSubplot at 0x12ba70ae2e0>"
      ]
     },
     "execution_count": 24,
     "metadata": {},
     "output_type": "execute_result"
    },
    {
     "data": {
      "image/png": "[encoded data removed]",
      "text/plain": [
       "<Figure size 432x288 with 1 Axes>"
      ]
     },
     "metadata": {
      "needs_background": "light"
     },
     "output_type": "display_data"
    }
   ],
   "source": [
    "taster_name_reviews.plot.bar()"
   ]
  },
  {
   "cell_type": "raw",
   "metadata": {},
   "source": [
    "# Roger Voss = 1 Michael Schachner = 2 Kerin O’Keefe = 3 Virginie Boone = 4 Paul Gregutt = 5 Matt Kettmann = 6 Joe Czerwinski = 7 Sean P. Sullivan = 8 Anna Lee C. Iijima = 9 Jim Gordon = 10 Anne Krebiehl MW = 11 Lauren Buzzeo = 12 Others = 0"
   ]
  },
  {
   "cell_type": "code",
   "execution_count": 25,
   "metadata": {},
   "outputs": [],
   "source": [
    "taster_name_max = 12"
   ]
  },
  {
   "cell_type": "code",
   "execution_count": 26,
   "metadata": {},
   "outputs": [],
   "source": [
    "def judge_taster_name(taster_name):\n",
    "    if taster_name == 'Roger Voss':\n",
    "        return 1\n",
    "    elif taster_name == 'Michael Schachner':\n",
    "        return 2\n",
    "    elif taster_name == 'Kerin O’Keefe':\n",
    "        return 3\n",
    "    elif taster_name == 'Virginie Boone':\n",
    "        return 4\n",
    "    elif taster_name == 'Paul Gregutt':\n",
    "        return 5\n",
    "    elif taster_name == 'Matt Kettmann':\n",
    "        return 6\n",
    "    elif taster_name == 'Joe Czerwinski':\n",
    "        return 7\n",
    "    elif taster_name == 'Sean P. Sullivan':\n",
    "        return 8\n",
    "    elif taster_name == 'Anna Lee C. Iijima':\n",
    "        return 9\n",
    "    elif taster_name == 'Jim Gordon':\n",
    "        return 10\n",
    "    elif taster_name == 'Anne Krebiehl MW':\n",
    "        return 11\n",
    "    elif taster_name == 'Lauren Buzzeo':\n",
    "        return 12\n",
    "    else:\n",
    "        return 0\n",
    "\n",
    "wine_reviews['taster_name_trans'] = wine_reviews['taster_name'].apply(judge_taster_name)"
   ]
  },
  {
   "cell_type": "raw",
   "metadata": {},
   "source": [
    "# taster_twitter_handle"
   ]
  },
  {
   "cell_type": "code",
   "execution_count": 27,
   "metadata": {},
   "outputs": [
    {
     "data": {
      "text/plain": [
       "taster_twitter_handle\n",
       "@laurbuzz            1835\n",
       "@AnneInVino          3685\n",
       "@gordone_cellars     4177\n",
       "@wawinereport        4966\n",
       "@JoeCz               5147\n",
       "@mattkettmann        6332\n",
       "@paulgwine           9532\n",
       "@vboone              9537\n",
       "@kerinokeefe        10776\n",
       "@wineschach         15134\n",
       "@vossroger          25514\n",
       "Name: taster_twitter_handle, dtype: int64"
      ]
     },
     "execution_count": 27,
     "metadata": {},
     "output_type": "execute_result"
    }
   ],
   "source": [
    "taster_twitter_handle_filter_reviews = wine_reviews.groupby('taster_twitter_handle').filter(lambda x: len(x) >= minsup)\n",
    "taster_twitter_handle_reviews = taster_twitter_handle_filter_reviews.groupby('taster_twitter_handle').taster_twitter_handle.count().sort_values()\n",
    "taster_twitter_handle_reviews"
   ]
  },
  {
   "cell_type": "code",
   "execution_count": 28,
   "metadata": {},
   "outputs": [
    {
     "data": {
      "text/plain": [
       "<matplotlib.axes._subplots.AxesSubplot at 0x12ba7558700>"
      ]
     },
     "execution_count": 28,
     "metadata": {},
     "output_type": "execute_result"
    },
    {
     "data": {
      "image/png": "[encoded data removed]",
      "text/plain": [
       "<Figure size 432x288 with 1 Axes>"
      ]
     },
     "metadata": {
      "needs_background": "light"
     },
     "output_type": "display_data"
    }
   ],
   "source": [
    "taster_twitter_handle_reviews.plot.bar()"
   ]
  },
  {
   "cell_type": "raw",
   "metadata": {},
   "source": [
    "# @vossroger = 1 @wineschach = 2 @kerinokeefe = 3 @vboone = 4 @paulgwine = 5 @mattkettmann = 6 @JoeCz = 7 @wawinereport = 8 @gordone_cellars = 9 @AnneInVino = 10 @laurbuzz = 11 Others = 0"
   ]
  },
  {
   "cell_type": "code",
   "execution_count": 29,
   "metadata": {},
   "outputs": [],
   "source": [
    "taster_twitter_handle_max = 11"
   ]
  },
  {
   "cell_type": "code",
   "execution_count": 30,
   "metadata": {},
   "outputs": [],
   "source": [
    "def judge_taster_twitter_handle(taster_twitter_handle):\n",
    "    if taster_twitter_handle == '@vossroger':\n",
    "        return 1\n",
    "    elif taster_twitter_handle == '@wineschach':\n",
    "        return 2\n",
    "    elif taster_twitter_handle == '@kerinokeefe':\n",
    "        return 3\n",
    "    elif taster_twitter_handle == '@vboone':\n",
    "        return 4\n",
    "    elif taster_twitter_handle == '@paulgwine':\n",
    "        return 5\n",
    "    elif taster_twitter_handle == '@mattkettmann':\n",
    "        return 6\n",
    "    elif taster_twitter_handle == '@JoeCz':\n",
    "        return 7\n",
    "    elif taster_twitter_handle == '@wawinereport':\n",
    "        return 8\n",
    "    elif taster_twitter_handle == '@gordone_cellars':\n",
    "        return 9\n",
    "    elif taster_twitter_handle == '@AnneInVino':\n",
    "        return 10\n",
    "    elif taster_twitter_handle == '@laurbuzz':\n",
    "        return 11\n",
    "    else:\n",
    "        return 0\n",
    "\n",
    "wine_reviews['taster_twitter_handle_trans'] = wine_reviews['taster_twitter_handle'].apply(judge_taster_twitter_handle)"
   ]
  },
  {
   "cell_type": "raw",
   "metadata": {},
   "source": [
    "# variety"
   ]
  },
  {
   "cell_type": "code",
   "execution_count": 31,
   "metadata": {},
   "outputs": [
    {
     "data": {
      "text/plain": [
       "variety\n",
       "Grüner Veltliner             1345\n",
       "Cabernet Franc               1353\n",
       "Champagne Blend              1396\n",
       "Pinot Gris                   1455\n",
       "Rhône-style Red Blend        1471\n",
       "Tempranillo                  1810\n",
       "Sparkling Blend              2153\n",
       "White Blend                  2360\n",
       "Portuguese Red               2466\n",
       "Malbec                       2652\n",
       "Sangiovese                   2707\n",
       "Zinfandel                    2714\n",
       "Nebbiolo                     2804\n",
       "Merlot                       3102\n",
       "Rosé                         3564\n",
       "Syrah                        4142\n",
       "Sauvignon Blanc              4967\n",
       "Riesling                     5189\n",
       "Bordeaux-style Red Blend     6915\n",
       "Red Blend                    8946\n",
       "Cabernet Sauvignon           9472\n",
       "Chardonnay                  11753\n",
       "Pinot Noir                  13272\n",
       "Name: variety, dtype: int64"
      ]
     },
     "execution_count": 31,
     "metadata": {},
     "output_type": "execute_result"
    }
   ],
   "source": [
    "variety_filter_reviews = wine_reviews.groupby('variety').filter(lambda x: len(x) >= minsup)\n",
    "variety_reviews = variety_filter_reviews.groupby('variety').variety.count().sort_values()\n",
    "variety_reviews"
   ]
  },
  {
   "cell_type": "code",
   "execution_count": 32,
   "metadata": {},
   "outputs": [
    {
     "data": {
      "text/plain": [
       "<matplotlib.axes._subplots.AxesSubplot at 0x12ba7578400>"
      ]
     },
     "execution_count": 32,
     "metadata": {},
     "output_type": "execute_result"
    },
    {
     "data": {
      "image/png": "[encoded data removed]",
      "text/plain": [
       "<Figure size 432x288 with 1 Axes>"
      ]
     },
     "metadata": {
      "needs_background": "light"
     },
     "output_type": "display_data"
    }
   ],
   "source": [
    "variety_reviews.plot.bar()"
   ]
  },
  {
   "cell_type": "raw",
   "metadata": {},
   "source": [
    "# Pinot Noir = 1 Chardonnay = 2 Cabernet Sauvignon = 3 Red Blend = 4 Bordeaux-style Red Blend = 5 Riesling = 6 Sauvignon Blanc = 7 Syrah = 8 Rosé = 9 Merlot = 10 Nebbiolo = 11 Zinfandel = 12 Sangiovese = 13 Malbec = 14 Portuguese Red = 15 White Blend = 16 Sparkling Blend = 17 Tempranillo = 18 Rhône-style Red Blend = 19 Pinot Gris = 20 Champagne Blend = 21 Cabernet Franc = 22 Grüner Veltliner = 23 Others = 0"
   ]
  },
  {
   "cell_type": "code",
   "execution_count": 33,
   "metadata": {},
   "outputs": [],
   "source": [
    "variety_max = 23"
   ]
  },
  {
   "cell_type": "code",
   "execution_count": 34,
   "metadata": {},
   "outputs": [],
   "source": [
    "def judge_variety(variety):\n",
    "    if variety == 'Pinot Noir':\n",
    "        return 1\n",
    "    elif variety == 'Chardonnay':\n",
    "        return 2\n",
    "    elif variety == 'Cabernet Sauvignon':\n",
    "        return 3\n",
    "    elif variety == 'Red Blend':\n",
    "        return 4\n",
    "    elif variety == 'Bordeaux-style Red Blend':\n",
    "        return 5\n",
    "    elif variety == 'Riesling':\n",
    "        return 6\n",
    "    elif variety == 'Sauvignon Blanc':\n",
    "        return 7\n",
    "    elif variety == 'Syrah':\n",
    "        return 8\n",
    "    elif variety == 'Rosé':\n",
    "        return 9\n",
    "    elif variety == 'Merlot':\n",
    "        return 10\n",
    "    elif variety == 'Nebbiolo':\n",
    "        return 11\n",
    "    elif variety == 'Zinfandel':\n",
    "        return 12\n",
    "    elif variety == 'Sangiovese':\n",
    "        return 13\n",
    "    elif variety == 'Malbec':\n",
    "        return 14\n",
    "    elif variety == 'Portuguese Red':\n",
    "        return 15\n",
    "    elif variety == 'White Blend':\n",
    "        return 16\n",
    "    elif variety == 'Sparkling Blend':\n",
    "        return 17\n",
    "    elif variety == 'Tempranillo':\n",
    "        return 18\n",
    "    elif variety == 'Rhône-style Red Blend':\n",
    "        return 19\n",
    "    elif variety == 'Pinot Gris':\n",
    "        return 20\n",
    "    elif variety == 'Champagne Blend':\n",
    "        return 21\n",
    "    elif variety == 'Cabernet Franc':\n",
    "        return 22\n",
    "    elif variety == 'Grüner Veltliner':\n",
    "        return 23\n",
    "    else:\n",
    "        return 0\n",
    "\n",
    "wine_reviews['variety_trans'] = wine_reviews['variety'].apply(judge_variety)"
   ]
  },
  {
   "cell_type": "raw",
   "metadata": {},
   "source": [
    "# description"
   ]
  },
  {
   "cell_type": "code",
   "execution_count": 35,
   "metadata": {},
   "outputs": [
    {
     "data": {
      "text/plain": [
       "description\n",
       "\"Chremisa,\" the ancient name of Krems, is commemorated in this wine that comes from Krems vineyards. It has tight, tangy apple-driven acidity, with a bright, light, citrusy character. Not for aging.                                                                                                           1\n",
       "The clean packaging of this Aglianico rosé from Basilicata is beautiful and so are the wine's delicate aromas of pink grapefruit, raspberry and rose. This is a highly drinkable wine with rich fruit flavors and an easy, no-fuss approach.                                                                     1\n",
       "The clean look, nice bead and good mouthfeel are the saving graces here, because it smells strange, almost like steamed ballpark hot dogs, and it tastes odd and innocuous, like papaya juice. The look and feel are good but the smell and tastes are not so great.                                             1\n",
       "The clay soil of Pouilly gives extra richness to this wine, a creamy texture supporting pear and green plum fruits, with a delicious crushed herb aroma. It is powerful, very concentrated, needing 4–5 years aging.                                                                                             1\n",
       "The classic skittle bottle shape, familiar from restaurant tables throughout Provence, reflects this wine's character. Lightly peppery and spicy, it has attractive and perfumed acidity.                                                                                                                        1\n",
       "                                                                                                                                                                                                                                                                                                                ..\n",
       "Stalky aromas suggest hay and green herbs, with raspberry in the backdrop. It's hot and short in terms of mouthfeel, with herbal flavors leading the way and berry fruit running behind. Dry red fruit and herbal notes dominate the finish.                                                                     3\n",
       "Gravenstein apple, honeysuckle and jasmine aromas show on the relatively boisterous nose of this bottling from a large vineyard on Highway 46 east of Paso Robles. There is compellingly grippy texture to the sip, with ripe flavors of pear and honeydew melon. A salty acidity takes it to the next level.    3\n",
       "Cigar box, café au lait, and dried tobacco aromas are followed by coffee and cherry flavors, with barrel spices lingering on the finish. The wood gets a bit out front but it still delivers enjoyment.                                                                                                          3\n",
       "This zesty red has pretty aromas that suggest small red berry, blue flower and a whiff of moist soil. The vibrant palate offers sour cherry, pomegranate and a hint of anise alongside zesty acidity and refined tannins.                                                                                        3\n",
       "Seductively tart in lemon pith, cranberry and pomegranate, this refreshing, light-bodied quaff is infinitely enjoyable, both on its own or at the table. It continues to expand on the palate into an increasing array of fresh flavors, finishing in cherry and orange.                                         3\n",
       "Name: winery, Length: 119955, dtype: int64"
      ]
     },
     "execution_count": 35,
     "metadata": {},
     "output_type": "execute_result"
    }
   ],
   "source": [
    "wine_reviews.groupby('description').winery.count().sort_values()"
   ]
  },
  {
   "cell_type": "raw",
   "metadata": {},
   "source": [
    "# 3 < minsup, description not need to consider"
   ]
  },
  {
   "cell_type": "raw",
   "metadata": {},
   "source": [
    "# title"
   ]
  },
  {
   "cell_type": "code",
   "execution_count": 36,
   "metadata": {},
   "outputs": [
    {
     "data": {
      "text/plain": [
       "title\n",
       "1+1=3 2008 Rosé Cabernet Sauvignon (Penedès)                                    1\n",
       "Monticello Vineyards 2007 Jefferson Cuvée Cabernet Sauvignon (Napa Valley)      1\n",
       "Monticello Vineyards 2006 Estate Grown Merlot (Oak Knoll District)              1\n",
       "Monticello Vineyards 2005 Estate Syrah (Oak Knoll District)                     1\n",
       "Monticello Vineyards 2004 Tietjen Vineyard Cabernet Sauvignon (Napa Valley)     1\n",
       "                                                                               ..\n",
       "Gloria Ferrer NV Blanc de Noirs Sparkling (Carneros)                            7\n",
       "Segura Viudas NV Aria Estate Extra Dry Sparkling (Cava)                         7\n",
       "Segura Viudas NV Extra Dry Sparkling (Cava)                                     8\n",
       "Korbel NV Brut Sparkling (California)                                           9\n",
       "Gloria Ferrer NV Sonoma Brut Sparkling (Sonoma County)                         11\n",
       "Name: winery, Length: 118840, dtype: int64"
      ]
     },
     "execution_count": 36,
     "metadata": {},
     "output_type": "execute_result"
    }
   ],
   "source": [
    "wine_reviews.groupby('title').winery.count().sort_values()"
   ]
  },
  {
   "cell_type": "raw",
   "metadata": {},
   "source": [
    "# 11 < minsup, title not need to consider"
   ]
  },
  {
   "cell_type": "raw",
   "metadata": {},
   "source": [
    "# winery"
   ]
  },
  {
   "cell_type": "code",
   "execution_count": 37,
   "metadata": {},
   "outputs": [
    {
     "data": {
      "text/plain": [
       "winery\n",
       "Hayward by Folin Cellars      1\n",
       "Château de Targé              1\n",
       "Château de Sérame             1\n",
       "Novella                       1\n",
       "Now Presenting...             1\n",
       "                           ... \n",
       "Louis Latour                199\n",
       "Williams Selyem             211\n",
       "DFJ Vinhos                  215\n",
       "Testarossa                  218\n",
       "Wines & Winemakers          222\n",
       "Name: winery, Length: 16757, dtype: int64"
      ]
     },
     "execution_count": 37,
     "metadata": {},
     "output_type": "execute_result"
    }
   ],
   "source": [
    "wine_reviews.groupby('winery').winery.count().sort_values()"
   ]
  },
  {
   "cell_type": "raw",
   "metadata": {},
   "source": [
    "# 220 < minsup, winery not need to consider"
   ]
  },
  {
   "cell_type": "raw",
   "metadata": {},
   "source": [
    "# Numeric type:"
   ]
  },
  {
   "cell_type": "raw",
   "metadata": {},
   "source": [
    "# Use quartiles to divide the entire range into four intervals, represented by 1 to 4"
   ]
  },
  {
   "cell_type": "raw",
   "metadata": {},
   "source": [
    "# points"
   ]
  },
  {
   "cell_type": "code",
   "execution_count": 38,
   "metadata": {},
   "outputs": [
    {
     "data": {
      "text/plain": [
       "86.0"
      ]
     },
     "execution_count": 38,
     "metadata": {},
     "output_type": "execute_result"
    }
   ],
   "source": [
    "points_25 = np.percentile(wine_reviews.points, (25))\n",
    "points_25"
   ]
  },
  {
   "cell_type": "code",
   "execution_count": 39,
   "metadata": {},
   "outputs": [
    {
     "data": {
      "text/plain": [
       "88.0"
      ]
     },
     "execution_count": 39,
     "metadata": {},
     "output_type": "execute_result"
    }
   ],
   "source": [
    "points_50 = np.percentile(wine_reviews.points, (50))\n",
    "points_50"
   ]
  },
  {
   "cell_type": "code",
   "execution_count": 40,
   "metadata": {},
   "outputs": [
    {
     "data": {
      "text/plain": [
       "91.0"
      ]
     },
     "execution_count": 40,
     "metadata": {},
     "output_type": "execute_result"
    }
   ],
   "source": [
    "points_75 = np.percentile(wine_reviews.points, (75))\n",
    "points_75"
   ]
  },
  {
   "cell_type": "code",
   "execution_count": 41,
   "metadata": {},
   "outputs": [],
   "source": [
    "points_max = 4"
   ]
  },
  {
   "cell_type": "code",
   "execution_count": 42,
   "metadata": {},
   "outputs": [],
   "source": [
    "def judge_points(points):\n",
    "    if points >= points_75:\n",
    "        return 1\n",
    "    elif points >= points_50:\n",
    "        return 2\n",
    "    elif points >= points_25:\n",
    "        return 3\n",
    "    else:\n",
    "        return 4\n",
    "\n",
    "wine_reviews['points_trans'] = wine_reviews['points'].apply(judge_points)"
   ]
  },
  {
   "cell_type": "raw",
   "metadata": {},
   "source": [
    "# price"
   ]
  },
  {
   "cell_type": "code",
   "execution_count": 43,
   "metadata": {},
   "outputs": [
    {
     "data": {
      "text/plain": [
       "17.0"
      ]
     },
     "execution_count": 43,
     "metadata": {},
     "output_type": "execute_result"
    }
   ],
   "source": [
    "price_25 = np.percentile(wine_reviews.loc[wine_reviews.price >= 0 ].price, (25))\n",
    "price_25"
   ]
  },
  {
   "cell_type": "code",
   "execution_count": 44,
   "metadata": {},
   "outputs": [
    {
     "data": {
      "text/plain": [
       "25.0"
      ]
     },
     "execution_count": 44,
     "metadata": {},
     "output_type": "execute_result"
    }
   ],
   "source": [
    "price_50 = np.percentile(wine_reviews.loc[wine_reviews.price >= 0 ].price, (50))\n",
    "price_50"
   ]
  },
  {
   "cell_type": "code",
   "execution_count": 45,
   "metadata": {},
   "outputs": [
    {
     "data": {
      "text/plain": [
       "42.0"
      ]
     },
     "execution_count": 45,
     "metadata": {},
     "output_type": "execute_result"
    }
   ],
   "source": [
    "price_75 = np.percentile(wine_reviews.loc[wine_reviews.price >= 0 ].price, (75))\n",
    "price_75"
   ]
  },
  {
   "cell_type": "code",
   "execution_count": 46,
   "metadata": {},
   "outputs": [],
   "source": [
    "price_max = 4"
   ]
  },
  {
   "cell_type": "code",
   "execution_count": 47,
   "metadata": {},
   "outputs": [],
   "source": [
    "def judge_price(price):\n",
    "    if price >= price_75:\n",
    "        return 1\n",
    "    elif price >= price_50:\n",
    "        return 2\n",
    "    elif price >= price_25:\n",
    "        return 3\n",
    "    else:\n",
    "        return 4\n",
    "\n",
    "wine_reviews['price_trans'] = wine_reviews['price'].apply(judge_price)"
   ]
  },
  {
   "cell_type": "markdown",
   "metadata": {},
   "source": [
    "# Transform result"
   ]
  },
  {
   "cell_type": "code",
   "execution_count": 48,
   "metadata": {},
   "outputs": [
    {
     "data": {
      "text/html": [
       "<div>\n",
       "<style scoped>\n",
       "    .dataframe tbody tr th:only-of-type {\n",
       "        vertical-align: middle;\n",
       "    }\n",
       "\n",
       "    .dataframe tbody tr th {\n",
       "        vertical-align: top;\n",
       "    }\n",
       "\n",
       "    .dataframe thead th {\n",
       "        text-align: right;\n",
       "    }\n",
       "</style>\n",
       "<table border=\"1\" class=\"dataframe\">\n",
       "  <thead>\n",
       "    <tr style=\"text-align: right;\">\n",
       "      <th></th>\n",
       "      <th>country_trans</th>\n",
       "      <th>designation_trans</th>\n",
       "      <th>province_trans</th>\n",
       "      <th>region_1_trans</th>\n",
       "      <th>region_2_trans</th>\n",
       "      <th>taster_name_trans</th>\n",
       "      <th>taster_twitter_handle_trans</th>\n",
       "      <th>variety_trans</th>\n",
       "      <th>points_trans</th>\n",
       "      <th>price_trans</th>\n",
       "    </tr>\n",
       "  </thead>\n",
       "  <tbody>\n",
       "    <tr>\n",
       "      <th>0</th>\n",
       "      <td>3</td>\n",
       "      <td>0</td>\n",
       "      <td>15</td>\n",
       "      <td>0</td>\n",
       "      <td>0</td>\n",
       "      <td>3</td>\n",
       "      <td>3</td>\n",
       "      <td>16</td>\n",
       "      <td>3</td>\n",
       "      <td>4</td>\n",
       "    </tr>\n",
       "    <tr>\n",
       "      <th>1</th>\n",
       "      <td>5</td>\n",
       "      <td>0</td>\n",
       "      <td>21</td>\n",
       "      <td>0</td>\n",
       "      <td>0</td>\n",
       "      <td>1</td>\n",
       "      <td>1</td>\n",
       "      <td>15</td>\n",
       "      <td>3</td>\n",
       "      <td>4</td>\n",
       "    </tr>\n",
       "    <tr>\n",
       "      <th>2</th>\n",
       "      <td>1</td>\n",
       "      <td>0</td>\n",
       "      <td>5</td>\n",
       "      <td>7</td>\n",
       "      <td>5</td>\n",
       "      <td>5</td>\n",
       "      <td>0</td>\n",
       "      <td>20</td>\n",
       "      <td>3</td>\n",
       "      <td>4</td>\n",
       "    </tr>\n",
       "    <tr>\n",
       "      <th>3</th>\n",
       "      <td>1</td>\n",
       "      <td>0</td>\n",
       "      <td>0</td>\n",
       "      <td>0</td>\n",
       "      <td>0</td>\n",
       "      <td>0</td>\n",
       "      <td>0</td>\n",
       "      <td>6</td>\n",
       "      <td>3</td>\n",
       "      <td>4</td>\n",
       "    </tr>\n",
       "    <tr>\n",
       "      <th>4</th>\n",
       "      <td>1</td>\n",
       "      <td>0</td>\n",
       "      <td>5</td>\n",
       "      <td>7</td>\n",
       "      <td>5</td>\n",
       "      <td>5</td>\n",
       "      <td>0</td>\n",
       "      <td>1</td>\n",
       "      <td>3</td>\n",
       "      <td>1</td>\n",
       "    </tr>\n",
       "    <tr>\n",
       "      <th>...</th>\n",
       "      <td>...</td>\n",
       "      <td>...</td>\n",
       "      <td>...</td>\n",
       "      <td>...</td>\n",
       "      <td>...</td>\n",
       "      <td>...</td>\n",
       "      <td>...</td>\n",
       "      <td>...</td>\n",
       "      <td>...</td>\n",
       "      <td>...</td>\n",
       "    </tr>\n",
       "    <tr>\n",
       "      <th>129966</th>\n",
       "      <td>10</td>\n",
       "      <td>0</td>\n",
       "      <td>0</td>\n",
       "      <td>0</td>\n",
       "      <td>0</td>\n",
       "      <td>9</td>\n",
       "      <td>0</td>\n",
       "      <td>6</td>\n",
       "      <td>2</td>\n",
       "      <td>2</td>\n",
       "    </tr>\n",
       "    <tr>\n",
       "      <th>129967</th>\n",
       "      <td>1</td>\n",
       "      <td>0</td>\n",
       "      <td>5</td>\n",
       "      <td>0</td>\n",
       "      <td>0</td>\n",
       "      <td>5</td>\n",
       "      <td>0</td>\n",
       "      <td>1</td>\n",
       "      <td>2</td>\n",
       "      <td>1</td>\n",
       "    </tr>\n",
       "    <tr>\n",
       "      <th>129968</th>\n",
       "      <td>2</td>\n",
       "      <td>0</td>\n",
       "      <td>12</td>\n",
       "      <td>8</td>\n",
       "      <td>0</td>\n",
       "      <td>1</td>\n",
       "      <td>1</td>\n",
       "      <td>0</td>\n",
       "      <td>2</td>\n",
       "      <td>2</td>\n",
       "    </tr>\n",
       "    <tr>\n",
       "      <th>129969</th>\n",
       "      <td>2</td>\n",
       "      <td>0</td>\n",
       "      <td>12</td>\n",
       "      <td>8</td>\n",
       "      <td>0</td>\n",
       "      <td>1</td>\n",
       "      <td>1</td>\n",
       "      <td>20</td>\n",
       "      <td>2</td>\n",
       "      <td>2</td>\n",
       "    </tr>\n",
       "    <tr>\n",
       "      <th>129970</th>\n",
       "      <td>2</td>\n",
       "      <td>0</td>\n",
       "      <td>12</td>\n",
       "      <td>8</td>\n",
       "      <td>0</td>\n",
       "      <td>1</td>\n",
       "      <td>1</td>\n",
       "      <td>0</td>\n",
       "      <td>2</td>\n",
       "      <td>3</td>\n",
       "    </tr>\n",
       "  </tbody>\n",
       "</table>\n",
       "<p>129971 rows × 10 columns</p>\n",
       "</div>"
      ],
      "text/plain": [
       "        country_trans  designation_trans  province_trans  region_1_trans  \\\n",
       "0                   3                  0              15               0   \n",
       "1                   5                  0              21               0   \n",
       "2                   1                  0               5               7   \n",
       "3                   1                  0               0               0   \n",
       "4                   1                  0               5               7   \n",
       "...               ...                ...             ...             ...   \n",
       "129966             10                  0               0               0   \n",
       "129967              1                  0               5               0   \n",
       "129968              2                  0              12               8   \n",
       "129969              2                  0              12               8   \n",
       "129970              2                  0              12               8   \n",
       "\n",
       "        region_2_trans  taster_name_trans  taster_twitter_handle_trans  \\\n",
       "0                    0                  3                            3   \n",
       "1                    0                  1                            1   \n",
       "2                    5                  5                            0   \n",
       "3                    0                  0                            0   \n",
       "4                    5                  5                            0   \n",
       "...                ...                ...                          ...   \n",
       "129966               0                  9                            0   \n",
       "129967               0                  5                            0   \n",
       "129968               0                  1                            1   \n",
       "129969               0                  1                            1   \n",
       "129970               0                  1                            1   \n",
       "\n",
       "        variety_trans  points_trans  price_trans  \n",
       "0                  16             3            4  \n",
       "1                  15             3            4  \n",
       "2                  20             3            4  \n",
       "3                   6             3            4  \n",
       "4                   1             3            1  \n",
       "...               ...           ...          ...  \n",
       "129966              6             2            2  \n",
       "129967              1             2            1  \n",
       "129968              0             2            2  \n",
       "129969             20             2            2  \n",
       "129970              0             2            3  \n",
       "\n",
       "[129971 rows x 10 columns]"
      ]
     },
     "execution_count": 48,
     "metadata": {},
     "output_type": "execute_result"
    }
   ],
   "source": [
    "wine_reviews_trans = wine_reviews.loc[: , ['country_trans','designation_trans','province_trans','region_1_trans','region_2_trans','taster_name_trans','taster_twitter_handle_trans','variety_trans','points_trans','price_trans']]\n",
    "wine_reviews_trans"
   ]
  },
  {
   "cell_type": "markdown",
   "metadata": {},
   "source": [
    "# Find out frequent patterns"
   ]
  },
  {
   "cell_type": "raw",
   "metadata": {},
   "source": [
    "# Use the Apriori Algorithm"
   ]
  },
  {
   "cell_type": "raw",
   "metadata": {},
   "source": [
    "# Obviously, there is a direct geographic relationship between country, province, region_1, and region_2, and taster_twitter_handle is just another form of taster_name, so it does not make sense to analyze the relationship between them. Choose country and taster_name as representatives."
   ]
  },
  {
   "cell_type": "raw",
   "metadata": {},
   "source": [
    "# {country,designation}"
   ]
  },
  {
   "cell_type": "code",
   "execution_count": 49,
   "metadata": {},
   "outputs": [
    {
     "data": {
      "text/plain": [
       "[[1485, 1210, 0],\n",
       " [0, 0, 0],\n",
       " [0, 0, 0],\n",
       " [0, 0, 0],\n",
       " [0, 0, 0],\n",
       " [0, 0, 0],\n",
       " [0, 0, 0],\n",
       " [0, 0, 0],\n",
       " [0, 0, 0],\n",
       " [0, 0, 0],\n",
       " [0, 0, 0],\n",
       " [0, 0, 0]]"
      ]
     },
     "execution_count": 49,
     "metadata": {},
     "output_type": "execute_result"
    }
   ],
   "source": [
    "aprout = [([0] * designation_max) for i in range(country_max)]\n",
    "for num1 in range(1,country_max+1):\n",
    "    for num2 in range(1,designation_max+1):\n",
    "        apr = wine_reviews_trans[(wine_reviews_trans['country_trans'] == num1) & (wine_reviews_trans['designation_trans'] == num2)] \n",
    "        if len(apr.index) >= minsup:\n",
    "            aprout[num1 - 1][num2 - 1] = len(apr.index)\n",
    "aprout"
   ]
  },
  {
   "cell_type": "code",
   "execution_count": 50,
   "metadata": {},
   "outputs": [
    {
     "data": {
      "text/plain": [
       "<matplotlib.axes._subplots.AxesSubplot at 0x12bb1e111f0>"
      ]
     },
     "execution_count": 50,
     "metadata": {},
     "output_type": "execute_result"
    },
    {
     "data": {
      "image/png": "[encoded data removed]",
      "text/plain": [
       "<Figure size 432x288 with 1 Axes>"
      ]
     },
     "metadata": {
      "needs_background": "light"
     },
     "output_type": "display_data"
    }
   ],
   "source": [
    "aprout_df = pd.DataFrame(aprout)\n",
    "aprout_df.plot.line()"
   ]
  },
  {
   "cell_type": "raw",
   "metadata": {},
   "source": [
    "# frequent patterns is {US,Reserve} {US,Estate}"
   ]
  },
  {
   "cell_type": "raw",
   "metadata": {},
   "source": [
    "#{US,Reserve}"
   ]
  },
  {
   "cell_type": "code",
   "execution_count": 51,
   "metadata": {},
   "outputs": [
    {
     "data": {
      "text/plain": [
       "(0.01142562571650599,\n",
       " 0.02724570673712021,\n",
       " 0.7391737182677949,\n",
       " 1.7626439772674223,\n",
       " 0.02724570673712021)"
      ]
     },
     "execution_count": 51,
     "metadata": {},
     "output_type": "execute_result"
    }
   ],
   "source": [
    "supp_US_and_Reserve = 1485/129971\n",
    "conf_US_to_Reserve = 1485/54504\n",
    "conf_Reserve_to_US = 1485/2009\n",
    "lift_US_and_Reserve = (1485/129971)/((54504/129971)*(2009/129971))\n",
    "allconf_US_and_Reserve = 1485/54504\n",
    "supp_US_and_Reserve,conf_US_to_Reserve,conf_Reserve_to_US,lift_US_and_Reserve,allconf_US_and_Reserve"
   ]
  },
  {
   "cell_type": "raw",
   "metadata": {},
   "source": [
    "# The value of supp_US_and_Reserve means that the frequency of this item set is very low\n",
    "# The value of conf_US_to_Reserve means that it is basically impossible to speculate Reserve from the presence of US\n",
    "# The value of conf_Reserve_to_US means that it is possible to speculate US from the presence of Reserve \n",
    "# The value of lift_US_and_Reserve means that the interdependence of US and Reserve is positive\n",
    "# The value of allconf_US_and_Reserve means that the all confidence is low"
   ]
  },
  {
   "cell_type": "raw",
   "metadata": {},
   "source": [
    "#{US,Estate}"
   ]
  },
  {
   "cell_type": "code",
   "execution_count": 52,
   "metadata": {},
   "outputs": [
    {
     "data": {
      "text/plain": [
       "(0.009309769102338213,\n",
       " 0.022200205489505357,\n",
       " 0.9152798789712556,\n",
       " 2.1825891888627087,\n",
       " 0.022200205489505357)"
      ]
     },
     "execution_count": 52,
     "metadata": {},
     "output_type": "execute_result"
    }
   ],
   "source": [
    "supp_US_and_Estate = 1210/129971\n",
    "conf_US_to_Estate = 1210/54504\n",
    "conf_Estate_to_US = 1210/1322\n",
    "lift_US_and_Estate = (1210/129971)/((54504/129971)*(1322/129971))\n",
    "allconf_US_and_Estate = 1210/54504\n",
    "supp_US_and_Estate,conf_US_to_Estate,conf_Estate_to_US,lift_US_and_Estate,allconf_US_and_Estate"
   ]
  },
  {
   "cell_type": "raw",
   "metadata": {},
   "source": [
    "# The value of supp_US_and_Estate means that the frequency of this item set is very low\n",
    "# The value of conf_US_to_Estate means that it is basically impossible to speculate Estate from the presence of US\n",
    "# The value of conf_Estate_to_US means that it is possible to speculate US from the presence of Estate\n",
    "# The value of lift_US_and_Estate means that the interdependence of US and Estate is positive\n",
    "# The value of allconf_US_and_Estate means that the all confidence is low"
   ]
  },
  {
   "cell_type": "raw",
   "metadata": {},
   "source": [
    "# {country,taster_name}"
   ]
  },
  {
   "cell_type": "code",
   "execution_count": 53,
   "metadata": {},
   "outputs": [
    {
     "data": {
      "text/plain": [
       "[[0, 0, 0, 9537, 9303, 6331, 0, 4934, 2435, 4177, 0, 0],\n",
       " [18602, 0, 0, 0, 0, 0, 0, 0, 0, 0, 0, 0],\n",
       " [0, 0, 10776, 0, 0, 0, 0, 0, 0, 0, 0, 0],\n",
       " [0, 6575, 0, 0, 0, 0, 0, 0, 0, 0, 0, 0],\n",
       " [5658, 0, 0, 0, 0, 0, 0, 0, 0, 0, 0, 0],\n",
       " [0, 4337, 0, 0, 0, 0, 0, 0, 0, 0, 0, 0],\n",
       " [0, 3797, 0, 0, 0, 0, 0, 0, 0, 0, 0, 0],\n",
       " [0, 0, 0, 0, 0, 0, 0, 0, 0, 0, 0, 0],\n",
       " [0, 0, 0, 0, 0, 0, 2036, 0, 0, 0, 0, 0],\n",
       " [0, 0, 0, 0, 0, 0, 0, 0, 1759, 0, 0, 0],\n",
       " [0, 0, 0, 0, 0, 0, 1311, 0, 0, 0, 0, 0],\n",
       " [0, 0, 0, 0, 0, 0, 0, 0, 0, 0, 0, 0]]"
      ]
     },
     "execution_count": 53,
     "metadata": {},
     "output_type": "execute_result"
    }
   ],
   "source": [
    "aprout = [([0] * taster_name_max) for i in range(country_max)]\n",
    "for num1 in range(1,country_max+1):\n",
    "    for num2 in range(1,taster_name_max+1):\n",
    "        apr = wine_reviews_trans[(wine_reviews_trans['country_trans'] == num1) & (wine_reviews_trans['taster_name_trans'] == num2)] \n",
    "        if len(apr.index) >= minsup:\n",
    "            aprout[num1 - 1][num2 - 1] = len(apr.index)\n",
    "aprout"
   ]
  },
  {
   "cell_type": "code",
   "execution_count": 54,
   "metadata": {},
   "outputs": [
    {
     "data": {
      "text/plain": [
       "<matplotlib.axes._subplots.AxesSubplot at 0x12bb2dcf100>"
      ]
     },
     "execution_count": 54,
     "metadata": {},
     "output_type": "execute_result"
    },
    {
     "data": {
      "image/png": "[encoded data removed]",
      "text/plain": [
       "<Figure size 432x288 with 1 Axes>"
      ]
     },
     "metadata": {
      "needs_background": "light"
     },
     "output_type": "display_data"
    }
   ],
   "source": [
    "aprout_df = pd.DataFrame(aprout)\n",
    "aprout_df.plot.line()"
   ]
  },
  {
   "cell_type": "raw",
   "metadata": {},
   "source": [
    "# frequent patterns is {US,Virginie Boone} {US,Paul Gregutt} {US,Matt Kettmann} {US,Sean P. Sullivan} {US,Anna Lee C. Iijima} {US,Jim Gordon} {France,Roger Voss} {Italy,Kerin O’Keefe} {Spain,Michael Schachner} {Portugal,Roger Voss} {Chile,Michael Schachner} {Argentina,Michael Schachner} {Australia,Joe Czerwinski} {Germany,Anna Lee C. Iijima} {New Zealand,Joe Czerwinski}"
   ]
  },
  {
   "cell_type": "raw",
   "metadata": {},
   "source": [
    "# {country,variety}"
   ]
  },
  {
   "cell_type": "code",
   "execution_count": 55,
   "metadata": {},
   "outputs": [
    {
     "data": {
      "text/plain": [
       "[[9885,\n",
       "  6801,\n",
       "  7315,\n",
       "  2972,\n",
       "  1824,\n",
       "  1753,\n",
       "  2163,\n",
       "  3244,\n",
       "  0,\n",
       "  2311,\n",
       "  0,\n",
       "  2711,\n",
       "  0,\n",
       "  0,\n",
       "  0,\n",
       "  0,\n",
       "  0,\n",
       "  0,\n",
       "  0,\n",
       "  0,\n",
       "  0,\n",
       "  0,\n",
       "  0],\n",
       " [1966,\n",
       "  2808,\n",
       "  0,\n",
       "  0,\n",
       "  4725,\n",
       "  0,\n",
       "  0,\n",
       "  0,\n",
       "  1923,\n",
       "  0,\n",
       "  0,\n",
       "  0,\n",
       "  0,\n",
       "  0,\n",
       "  0,\n",
       "  0,\n",
       "  0,\n",
       "  0,\n",
       "  0,\n",
       "  0,\n",
       "  1243,\n",
       "  0,\n",
       "  0],\n",
       " [0,\n",
       "  0,\n",
       "  0,\n",
       "  3624,\n",
       "  0,\n",
       "  0,\n",
       "  0,\n",
       "  0,\n",
       "  0,\n",
       "  0,\n",
       "  2736,\n",
       "  0,\n",
       "  2265,\n",
       "  0,\n",
       "  0,\n",
       "  0,\n",
       "  0,\n",
       "  0,\n",
       "  0,\n",
       "  0,\n",
       "  0,\n",
       "  0,\n",
       "  0],\n",
       " [0, 0, 0, 0, 0, 0, 0, 0, 0, 0, 0, 0, 0, 0, 0, 0, 0, 1429, 0, 0, 0, 0, 0],\n",
       " [0, 0, 0, 0, 0, 0, 0, 0, 0, 0, 0, 0, 0, 0, 2466, 0, 0, 0, 0, 0, 0, 0, 0],\n",
       " [0, 0, 0, 0, 0, 0, 0, 0, 0, 0, 0, 0, 0, 0, 0, 0, 0, 0, 0, 0, 0, 0, 0],\n",
       " [0, 0, 0, 0, 0, 0, 0, 0, 0, 0, 0, 0, 0, 1510, 0, 0, 0, 0, 0, 0, 0, 0, 0],\n",
       " [0, 0, 0, 0, 0, 0, 0, 0, 0, 0, 0, 0, 0, 0, 0, 0, 0, 0, 0, 0, 0, 0, 1234],\n",
       " [0, 0, 0, 0, 0, 0, 0, 0, 0, 0, 0, 0, 0, 0, 0, 0, 0, 0, 0, 0, 0, 0, 0],\n",
       " [0, 0, 0, 0, 0, 1790, 0, 0, 0, 0, 0, 0, 0, 0, 0, 0, 0, 0, 0, 0, 0, 0, 0],\n",
       " [0, 0, 0, 0, 0, 0, 0, 0, 0, 0, 0, 0, 0, 0, 0, 0, 0, 0, 0, 0, 0, 0, 0],\n",
       " [0, 0, 0, 0, 0, 0, 0, 0, 0, 0, 0, 0, 0, 0, 0, 0, 0, 0, 0, 0, 0, 0, 0]]"
      ]
     },
     "execution_count": 55,
     "metadata": {},
     "output_type": "execute_result"
    }
   ],
   "source": [
    "aprout = [([0] * variety_max) for i in range(country_max)]\n",
    "for num1 in range(1,country_max+1):\n",
    "    for num2 in range(1,variety_max+1):\n",
    "        apr = wine_reviews_trans[(wine_reviews_trans['country_trans'] == num1) & (wine_reviews_trans['variety_trans'] == num2)] \n",
    "        if len(apr.index) >= minsup:\n",
    "            aprout[num1 - 1][num2 - 1] = len(apr.index)\n",
    "aprout"
   ]
  },
  {
   "cell_type": "code",
   "execution_count": 56,
   "metadata": {},
   "outputs": [
    {
     "data": {
      "text/plain": [
       "<matplotlib.axes._subplots.AxesSubplot at 0x12ba7b30340>"
      ]
     },
     "execution_count": 56,
     "metadata": {},
     "output_type": "execute_result"
    },
    {
     "data": {
      "image/png": "[encoded data removed]",
      "text/plain": [
       "<Figure size 432x288 with 1 Axes>"
      ]
     },
     "metadata": {
      "needs_background": "light"
     },
     "output_type": "display_data"
    }
   ],
   "source": [
    "aprout_df = pd.DataFrame(aprout)\n",
    "aprout_df.plot.line()"
   ]
  },
  {
   "cell_type": "raw",
   "metadata": {},
   "source": [
    "# frequent patterns is {US,Pinot Noir} {US,Chardonnay} {US,Cabernet Sauvignon} {US,Red Blend} {US,Bordeaux-style Red Blend} {US,Riesling} {US,Sauvignon Blanc} {US,Syrah} {US,Merlot} {US,Zinfandel} {France,Pinot Noir} {France,Chardonnay} {France,Bordeaux-style Red Blend} {France,Rosé} {France,Champagne Blend} {Italy,Red Blend} {Italy,Nebbiolo} {Italy,Sangiovese} {Spain,Tempranillo} {Portugal,Portuguese Red} {Argentina,Malbec} {Austria,Grüner Veltliner} {Germany,Riesling}"
   ]
  },
  {
   "cell_type": "raw",
   "metadata": {},
   "source": [
    "# {country,points}"
   ]
  },
  {
   "cell_type": "code",
   "execution_count": 57,
   "metadata": {},
   "outputs": [
    {
     "data": {
      "text/plain": [
       "[[15617, 18163, 11558, 9166],\n",
       " [6654, 7565, 4618, 3256],\n",
       " [4265, 7761, 5509, 2005],\n",
       " [0, 2000, 1727, 1870],\n",
       " [1383, 1822, 1328, 0],\n",
       " [0, 0, 1372, 1614],\n",
       " [0, 0, 0, 1435],\n",
       " [1439, 1420, 0, 0],\n",
       " [0, 0, 0, 0],\n",
       " [0, 0, 0, 0],\n",
       " [0, 0, 0, 0],\n",
       " [0, 0, 0, 0]]"
      ]
     },
     "execution_count": 57,
     "metadata": {},
     "output_type": "execute_result"
    }
   ],
   "source": [
    "aprout = [([0] * points_max) for i in range(country_max)]\n",
    "for num1 in range(1,country_max+1):\n",
    "    for num2 in range(1,points_max+1):\n",
    "        apr = wine_reviews_trans[(wine_reviews_trans['country_trans'] == num1) & (wine_reviews_trans['points_trans'] == num2)] \n",
    "        if len(apr.index) >= minsup:\n",
    "            aprout[num1 - 1][num2 - 1] = len(apr.index)\n",
    "aprout"
   ]
  },
  {
   "cell_type": "code",
   "execution_count": 58,
   "metadata": {},
   "outputs": [
    {
     "data": {
      "text/plain": [
       "<matplotlib.axes._subplots.AxesSubplot at 0x12ba7c1d1c0>"
      ]
     },
     "execution_count": 58,
     "metadata": {},
     "output_type": "execute_result"
    },
    {
     "data": {
      "image/png": "[encoded data removed]",
      "text/plain": [
       "<Figure size 432x288 with 1 Axes>"
      ]
     },
     "metadata": {
      "needs_background": "light"
     },
     "output_type": "display_data"
    }
   ],
   "source": [
    "aprout_df = pd.DataFrame(aprout)\n",
    "aprout_df.plot.line()"
   ]
  },
  {
   "cell_type": "raw",
   "metadata": {},
   "source": [
    "# frequent patterns is {US,100-75} {US,75-50} {US,50-25} {US,25-0} {France,100-75} {France,75-50} {France,50-25} {France,25-0} {Italy,100-75} {Italy,75-50} {Italy,50-25} {Italy,25-0} {Spain,75-50} {Spain,50-25} {Spain,25-0} {Portugal,100-75} {Portugal,75-50} {Portugal,50-25} {Chile,50-25} {Chile,25-0} {Argentina,25-0} {Austria,100-75} {Austria,75-50}"
   ]
  },
  {
   "cell_type": "raw",
   "metadata": {},
   "source": [
    "# {country,price}"
   ]
  },
  {
   "cell_type": "code",
   "execution_count": 59,
   "metadata": {},
   "outputs": [
    {
     "data": {
      "text/plain": [
       "[[16289, 19251, 10765, 8199],\n",
       " [4597, 4380, 4298, 8818],\n",
       " [5489, 4278, 3936, 5837],\n",
       " [0, 1240, 1495, 2914],\n",
       " [0, 0, 0, 3254],\n",
       " [0, 0, 0, 2610],\n",
       " [0, 0, 0, 1876],\n",
       " [0, 0, 0, 0],\n",
       " [0, 0, 0, 0],\n",
       " [0, 0, 0, 0],\n",
       " [0, 0, 0, 0],\n",
       " [0, 0, 0, 0]]"
      ]
     },
     "execution_count": 59,
     "metadata": {},
     "output_type": "execute_result"
    }
   ],
   "source": [
    "aprout = [([0] * price_max) for i in range(country_max)]\n",
    "for num1 in range(1,country_max+1):\n",
    "    for num2 in range(1,price_max+1):\n",
    "        apr = wine_reviews_trans[(wine_reviews_trans['country_trans'] == num1) & (wine_reviews_trans['price_trans'] == num2)] \n",
    "        if len(apr.index) >= minsup:\n",
    "            aprout[num1 - 1][num2 - 1] = len(apr.index)\n",
    "aprout"
   ]
  },
  {
   "cell_type": "code",
   "execution_count": 60,
   "metadata": {},
   "outputs": [
    {
     "data": {
      "text/plain": [
       "<matplotlib.axes._subplots.AxesSubplot at 0x12bb1e47700>"
      ]
     },
     "execution_count": 60,
     "metadata": {},
     "output_type": "execute_result"
    },
    {
     "data": {
      "image/png": "[encoded data removed]",
      "text/plain": [
       "<Figure size 432x288 with 1 Axes>"
      ]
     },
     "metadata": {
      "needs_background": "light"
     },
     "output_type": "display_data"
    }
   ],
   "source": [
    "aprout_df = pd.DataFrame(aprout)\n",
    "aprout_df.plot.line()"
   ]
  },
  {
   "cell_type": "raw",
   "metadata": {},
   "source": [
    "# frequent patterns is {US,100-75} {US,75-50} {US,50-25} {US,25-0} {France,100-75} {France,75-50} {France,50-25} {France,25-0} {Italy,100-75} {Italy,75-50} {Italy,50-25} {Italy,25-0} {Spain,75-50} {Spain,50-25} {Spain,25-0} {Portugal,25-0} {Chile,25-0} {Argentina,25-0}"
   ]
  },
  {
   "cell_type": "raw",
   "metadata": {},
   "source": [
    "# {designation,taster_name}"
   ]
  },
  {
   "cell_type": "code",
   "execution_count": 61,
   "metadata": {},
   "outputs": [
    {
     "data": {
      "text/plain": [
       "[[0, 0, 0, 0, 0, 0, 0, 0, 0, 0, 0, 0],\n",
       " [0, 0, 0, 0, 0, 0, 0, 0, 0, 0, 0, 0],\n",
       " [0, 0, 0, 0, 0, 0, 0, 0, 0, 0, 0, 0]]"
      ]
     },
     "execution_count": 61,
     "metadata": {},
     "output_type": "execute_result"
    }
   ],
   "source": [
    "aprout = [([0] * taster_name_max) for i in range(designation_max)]\n",
    "for num1 in range(1,designation_max+1):\n",
    "    for num2 in range(1,taster_name_max+1):\n",
    "        apr = wine_reviews_trans[(wine_reviews_trans['designation_trans'] == num1) & (wine_reviews_trans['taster_name_trans'] == num2)] \n",
    "        if len(apr.index) >= minsup:\n",
    "            aprout[num1 - 1][num2 - 1] = len(apr.index)\n",
    "aprout"
   ]
  },
  {
   "cell_type": "raw",
   "metadata": {},
   "source": [
    "# no frequent patterns"
   ]
  },
  {
   "cell_type": "raw",
   "metadata": {},
   "source": [
    "# {designation,variety}"
   ]
  },
  {
   "cell_type": "code",
   "execution_count": 62,
   "metadata": {},
   "outputs": [
    {
     "data": {
      "text/plain": [
       "[[0, 0, 0, 0, 0, 0, 0, 0, 0, 0, 0, 0, 0, 0, 0, 0, 0, 0, 0, 0, 0, 0, 0],\n",
       " [0, 0, 0, 0, 0, 0, 0, 0, 0, 0, 0, 0, 0, 0, 0, 0, 0, 0, 0, 0, 0, 0, 0],\n",
       " [0, 0, 0, 0, 0, 0, 0, 0, 0, 0, 0, 0, 0, 0, 0, 0, 0, 0, 0, 0, 0, 0, 0]]"
      ]
     },
     "execution_count": 62,
     "metadata": {},
     "output_type": "execute_result"
    }
   ],
   "source": [
    "aprout = [([0] * variety_max) for i in range(designation_max)]\n",
    "for num1 in range(1,designation_max+1):\n",
    "    for num2 in range(1,variety_max+1):\n",
    "        apr = wine_reviews_trans[(wine_reviews_trans['designation_trans'] == num1) & (wine_reviews_trans['variety_trans'] == num2)] \n",
    "        if len(apr.index) >= minsup:\n",
    "            aprout[num1 - 1][num2 - 1] = len(apr.index)\n",
    "aprout"
   ]
  },
  {
   "cell_type": "raw",
   "metadata": {},
   "source": [
    "# no frequent patterns"
   ]
  },
  {
   "cell_type": "raw",
   "metadata": {},
   "source": [
    "# {designation,points}"
   ]
  },
  {
   "cell_type": "code",
   "execution_count": 63,
   "metadata": {},
   "outputs": [
    {
     "data": {
      "text/plain": [
       "[[0, 0, 0, 0], [0, 0, 0, 0], [0, 0, 0, 0]]"
      ]
     },
     "execution_count": 63,
     "metadata": {},
     "output_type": "execute_result"
    }
   ],
   "source": [
    "aprout = [([0] * points_max) for i in range(designation_max)]\n",
    "for num1 in range(1,designation_max+1):\n",
    "    for num2 in range(1,points_max+1):\n",
    "        apr = wine_reviews_trans[(wine_reviews_trans['designation_trans'] == num1) & (wine_reviews_trans['points_trans'] == num2)] \n",
    "        if len(apr.index) >= minsup:\n",
    "            aprout[num1 - 1][num2 - 1] = len(apr.index)\n",
    "aprout"
   ]
  },
  {
   "cell_type": "raw",
   "metadata": {},
   "source": [
    "# no frequent patterns"
   ]
  },
  {
   "cell_type": "raw",
   "metadata": {},
   "source": [
    "# {designation,price}"
   ]
  },
  {
   "cell_type": "code",
   "execution_count": 64,
   "metadata": {},
   "outputs": [
    {
     "data": {
      "text/plain": [
       "[[0, 0, 0, 0], [0, 0, 0, 0], [0, 0, 0, 0]]"
      ]
     },
     "execution_count": 64,
     "metadata": {},
     "output_type": "execute_result"
    }
   ],
   "source": [
    "aprout = [([0] * price_max) for i in range(designation_max)]\n",
    "for num1 in range(1,designation_max+1):\n",
    "    for num2 in range(1,price_max+1):\n",
    "        apr = wine_reviews_trans[(wine_reviews_trans['designation_trans'] == num1) & (wine_reviews_trans['price_trans'] == num2)] \n",
    "        if len(apr.index) >= minsup:\n",
    "            aprout[num1 - 1][num2 - 1] = len(apr.index)\n",
    "aprout"
   ]
  },
  {
   "cell_type": "raw",
   "metadata": {},
   "source": [
    "# no frequent patterns"
   ]
  },
  {
   "cell_type": "raw",
   "metadata": {},
   "source": [
    "# {taster_name,variety}"
   ]
  },
  {
   "cell_type": "code",
   "execution_count": 65,
   "metadata": {},
   "outputs": [
    {
     "data": {
      "text/plain": [
       "[[1872,\n",
       "  2786,\n",
       "  0,\n",
       "  0,\n",
       "  4710,\n",
       "  0,\n",
       "  0,\n",
       "  0,\n",
       "  1803,\n",
       "  0,\n",
       "  0,\n",
       "  0,\n",
       "  0,\n",
       "  0,\n",
       "  2462,\n",
       "  0,\n",
       "  0,\n",
       "  0,\n",
       "  0,\n",
       "  0,\n",
       "  0,\n",
       "  0,\n",
       "  0],\n",
       " [0,\n",
       "  0,\n",
       "  1358,\n",
       "  1496,\n",
       "  0,\n",
       "  0,\n",
       "  0,\n",
       "  0,\n",
       "  0,\n",
       "  0,\n",
       "  0,\n",
       "  0,\n",
       "  0,\n",
       "  1652,\n",
       "  0,\n",
       "  0,\n",
       "  0,\n",
       "  1439,\n",
       "  0,\n",
       "  0,\n",
       "  0,\n",
       "  0,\n",
       "  0],\n",
       " [0,\n",
       "  0,\n",
       "  0,\n",
       "  2507,\n",
       "  0,\n",
       "  0,\n",
       "  0,\n",
       "  0,\n",
       "  0,\n",
       "  0,\n",
       "  1930,\n",
       "  0,\n",
       "  1584,\n",
       "  0,\n",
       "  0,\n",
       "  0,\n",
       "  0,\n",
       "  0,\n",
       "  0,\n",
       "  0,\n",
       "  0,\n",
       "  0,\n",
       "  0],\n",
       " [1891,\n",
       "  1429,\n",
       "  1829,\n",
       "  0,\n",
       "  0,\n",
       "  0,\n",
       "  0,\n",
       "  0,\n",
       "  0,\n",
       "  0,\n",
       "  0,\n",
       "  0,\n",
       "  0,\n",
       "  0,\n",
       "  0,\n",
       "  0,\n",
       "  0,\n",
       "  0,\n",
       "  0,\n",
       "  0,\n",
       "  0,\n",
       "  0,\n",
       "  0],\n",
       " [2721, 0, 0, 0, 0, 0, 0, 0, 0, 0, 0, 0, 0, 0, 0, 0, 0, 0, 0, 0, 0, 0, 0],\n",
       " [1570, 0, 0, 0, 0, 0, 0, 0, 0, 0, 0, 0, 0, 0, 0, 0, 0, 0, 0, 0, 0, 0, 0],\n",
       " [0, 0, 0, 0, 0, 0, 0, 0, 0, 0, 0, 0, 0, 0, 0, 0, 0, 0, 0, 0, 0, 0, 0],\n",
       " [0, 0, 0, 0, 0, 0, 0, 0, 0, 0, 0, 0, 0, 0, 0, 0, 0, 0, 0, 0, 0, 0, 0],\n",
       " [0, 0, 0, 0, 0, 2135, 0, 0, 0, 0, 0, 0, 0, 0, 0, 0, 0, 0, 0, 0, 0, 0, 0],\n",
       " [0, 0, 0, 0, 0, 0, 0, 0, 0, 0, 0, 0, 0, 0, 0, 0, 0, 0, 0, 0, 0, 0, 0],\n",
       " [0, 0, 0, 0, 0, 0, 0, 0, 0, 0, 0, 0, 0, 0, 0, 0, 0, 0, 0, 0, 0, 0, 0],\n",
       " [0, 0, 0, 0, 0, 0, 0, 0, 0, 0, 0, 0, 0, 0, 0, 0, 0, 0, 0, 0, 0, 0, 0]]"
      ]
     },
     "execution_count": 65,
     "metadata": {},
     "output_type": "execute_result"
    }
   ],
   "source": [
    "aprout = [([0] * variety_max) for i in range(taster_name_max)]\n",
    "for num1 in range(1,taster_name_max+1):\n",
    "    for num2 in range(1,variety_max+1):\n",
    "        apr = wine_reviews_trans[(wine_reviews_trans['taster_name_trans'] == num1) & (wine_reviews_trans['variety_trans'] == num2)] \n",
    "        if len(apr.index) >= minsup:\n",
    "            aprout[num1 - 1][num2 - 1] = len(apr.index)\n",
    "aprout"
   ]
  },
  {
   "cell_type": "code",
   "execution_count": 66,
   "metadata": {},
   "outputs": [
    {
     "data": {
      "text/plain": [
       "<matplotlib.axes._subplots.AxesSubplot at 0x12bb2c84370>"
      ]
     },
     "execution_count": 66,
     "metadata": {},
     "output_type": "execute_result"
    },
    {
     "data": {
      "image/png": "[encoded data removed]",
      "text/plain": [
       "<Figure size 432x288 with 1 Axes>"
      ]
     },
     "metadata": {
      "needs_background": "light"
     },
     "output_type": "display_data"
    }
   ],
   "source": [
    "aprout_df = pd.DataFrame(aprout)\n",
    "aprout_df.plot.line()"
   ]
  },
  {
   "cell_type": "raw",
   "metadata": {},
   "source": [
    "# {taster_name,points}"
   ]
  },
  {
   "cell_type": "code",
   "execution_count": 67,
   "metadata": {},
   "outputs": [
    {
     "data": {
      "text/plain": [
       "[[7378, 8533, 5505, 4098],\n",
       " [1980, 4139, 4025, 4990],\n",
       " [2374, 4970, 2816, 0],\n",
       " [3284, 3562, 1620, 0],\n",
       " [3096, 3616, 1832, 0],\n",
       " [2977, 2242, 0, 0],\n",
       " [1317, 1941, 0, 0],\n",
       " [1333, 2131, 0, 0],\n",
       " [0, 1869, 0, 0],\n",
       " [0, 1658, 0, 0],\n",
       " [0, 0, 0, 0],\n",
       " [0, 0, 0, 0]]"
      ]
     },
     "execution_count": 67,
     "metadata": {},
     "output_type": "execute_result"
    }
   ],
   "source": [
    "aprout = [([0] * points_max) for i in range(taster_name_max)]\n",
    "for num1 in range(1,taster_name_max+1):\n",
    "    for num2 in range(1,points_max+1):\n",
    "        apr = wine_reviews_trans[(wine_reviews_trans['taster_name_trans'] == num1) & (wine_reviews_trans['points_trans'] == num2)] \n",
    "        if len(apr.index) >= minsup:\n",
    "            aprout[num1 - 1][num2 - 1] = len(apr.index)\n",
    "aprout"
   ]
  },
  {
   "cell_type": "code",
   "execution_count": 68,
   "metadata": {},
   "outputs": [
    {
     "data": {
      "text/plain": [
       "<matplotlib.axes._subplots.AxesSubplot at 0x12ba7a86af0>"
      ]
     },
     "execution_count": 68,
     "metadata": {},
     "output_type": "execute_result"
    },
    {
     "data": {
      "image/png": "[encoded data removed]",
      "text/plain": [
       "<Figure size 432x288 with 1 Axes>"
      ]
     },
     "metadata": {
      "needs_background": "light"
     },
     "output_type": "display_data"
    }
   ],
   "source": [
    "aprout_df = pd.DataFrame(aprout)\n",
    "aprout_df.plot.line()"
   ]
  },
  {
   "cell_type": "raw",
   "metadata": {},
   "source": [
    "# {taster_name,price}"
   ]
  },
  {
   "cell_type": "code",
   "execution_count": 69,
   "metadata": {},
   "outputs": [
    {
     "data": {
      "text/plain": [
       "[[4710, 4627, 4670, 11507],\n",
       " [1808, 2463, 3476, 7387],\n",
       " [3472, 2763, 2265, 2276],\n",
       " [4331, 3149, 1435, 0],\n",
       " [2510, 3560, 2104, 1358],\n",
       " [2301, 2508, 0, 0],\n",
       " [0, 0, 1327, 1558],\n",
       " [1269, 1971, 0, 0],\n",
       " [0, 1244, 1307, 1262],\n",
       " [0, 1318, 0, 1295],\n",
       " [0, 0, 0, 0],\n",
       " [0, 0, 0, 0]]"
      ]
     },
     "execution_count": 69,
     "metadata": {},
     "output_type": "execute_result"
    }
   ],
   "source": [
    "aprout = [([0] * price_max) for i in range(taster_name_max)]\n",
    "for num1 in range(1,taster_name_max+1):\n",
    "    for num2 in range(1,price_max+1):\n",
    "        apr = wine_reviews_trans[(wine_reviews_trans['taster_name_trans'] == num1) & (wine_reviews_trans['price_trans'] == num2)] \n",
    "        if len(apr.index) >= minsup:\n",
    "            aprout[num1 - 1][num2 - 1] = len(apr.index)\n",
    "aprout"
   ]
  },
  {
   "cell_type": "code",
   "execution_count": 70,
   "metadata": {},
   "outputs": [
    {
     "data": {
      "text/plain": [
       "<matplotlib.axes._subplots.AxesSubplot at 0x12ba6d54070>"
      ]
     },
     "execution_count": 70,
     "metadata": {},
     "output_type": "execute_result"
    },
    {
     "data": {
      "image/png": "[encoded data removed]",
      "text/plain": [
       "<Figure size 432x288 with 1 Axes>"
      ]
     },
     "metadata": {
      "needs_background": "light"
     },
     "output_type": "display_data"
    }
   ],
   "source": [
    "aprout_df = pd.DataFrame(aprout)\n",
    "aprout_df.plot.line()"
   ]
  },
  {
   "cell_type": "raw",
   "metadata": {},
   "source": [
    "# {variety,points}"
   ]
  },
  {
   "cell_type": "code",
   "execution_count": 71,
   "metadata": {},
   "outputs": [
    {
     "data": {
      "text/plain": [
       "[[5331, 4105, 2297, 1539],\n",
       " [3180, 3590, 2592, 2391],\n",
       " [2882, 2864, 1987, 1739],\n",
       " [1984, 3561, 2158, 1243],\n",
       " [2395, 2329, 1233, 0],\n",
       " [1811, 2028, 0, 0],\n",
       " [0, 1735, 1380, 1211],\n",
       " [1605, 1351, 0, 0],\n",
       " [0, 0, 0, 0],\n",
       " [0, 0, 0, 0],\n",
       " [1247, 0, 0, 0],\n",
       " [0, 0, 0, 0],\n",
       " [0, 0, 0, 0],\n",
       " [0, 0, 0, 0],\n",
       " [0, 0, 0, 0],\n",
       " [0, 0, 0, 0],\n",
       " [0, 0, 0, 0],\n",
       " [0, 0, 0, 0],\n",
       " [0, 0, 0, 0],\n",
       " [0, 0, 0, 0],\n",
       " [0, 0, 0, 0],\n",
       " [0, 0, 0, 0],\n",
       " [0, 0, 0, 0]]"
      ]
     },
     "execution_count": 71,
     "metadata": {},
     "output_type": "execute_result"
    }
   ],
   "source": [
    "aprout = [([0] * points_max) for i in range(variety_max)]\n",
    "for num1 in range(1,variety_max+1):\n",
    "    for num2 in range(1,points_max+1):\n",
    "        apr = wine_reviews_trans[(wine_reviews_trans['variety_trans'] == num1) & (wine_reviews_trans['points_trans'] == num2)] \n",
    "        if len(apr.index) >= minsup:\n",
    "            aprout[num1 - 1][num2 - 1] = len(apr.index)\n",
    "aprout"
   ]
  },
  {
   "cell_type": "code",
   "execution_count": 72,
   "metadata": {},
   "outputs": [
    {
     "data": {
      "text/plain": [
       "<matplotlib.axes._subplots.AxesSubplot at 0x12ba6e88130>"
      ]
     },
     "execution_count": 72,
     "metadata": {},
     "output_type": "execute_result"
    },
    {
     "data": {
      "image/png": "[encoded data removed]",
      "text/plain": [
       "<Figure size 432x288 with 1 Axes>"
      ]
     },
     "metadata": {
      "needs_background": "light"
     },
     "output_type": "display_data"
    }
   ],
   "source": [
    "aprout_df = pd.DataFrame(aprout)\n",
    "aprout_df.plot.line()"
   ]
  },
  {
   "cell_type": "raw",
   "metadata": {},
   "source": [
    "# {variety,price}"
   ]
  },
  {
   "cell_type": "code",
   "execution_count": 73,
   "metadata": {},
   "outputs": [
    {
     "data": {
      "text/plain": [
       "[[6613, 3798, 1493, 1368],\n",
       " [2583, 3668, 2313, 3189],\n",
       " [4101, 2301, 1267, 1803],\n",
       " [2264, 2730, 1854, 2098],\n",
       " [1841, 1513, 0, 2534],\n",
       " [0, 1357, 1428, 1535],\n",
       " [0, 0, 1659, 2146],\n",
       " [1336, 1804, 0, 0],\n",
       " [0, 0, 0, 1965],\n",
       " [0, 0, 0, 0],\n",
       " [1785, 0, 0, 0],\n",
       " [0, 1278, 0, 0],\n",
       " [0, 0, 0, 0],\n",
       " [0, 0, 0, 0],\n",
       " [0, 0, 0, 1334],\n",
       " [0, 0, 0, 0],\n",
       " [0, 0, 0, 0],\n",
       " [0, 0, 0, 0],\n",
       " [0, 0, 0, 0],\n",
       " [0, 0, 0, 0],\n",
       " [0, 0, 0, 0],\n",
       " [0, 0, 0, 0],\n",
       " [0, 0, 0, 0]]"
      ]
     },
     "execution_count": 73,
     "metadata": {},
     "output_type": "execute_result"
    }
   ],
   "source": [
    "aprout = [([0] * price_max) for i in range(variety_max)]\n",
    "for num1 in range(1,variety_max+1):\n",
    "    for num2 in range(1,price_max+1):\n",
    "        apr = wine_reviews_trans[(wine_reviews_trans['variety_trans'] == num1) & (wine_reviews_trans['price_trans'] == num2)] \n",
    "        if len(apr.index) >= minsup:\n",
    "            aprout[num1 - 1][num2 - 1] = len(apr.index)\n",
    "aprout"
   ]
  },
  {
   "cell_type": "code",
   "execution_count": 74,
   "metadata": {},
   "outputs": [
    {
     "data": {
      "text/plain": [
       "<matplotlib.axes._subplots.AxesSubplot at 0x12bb2e01f40>"
      ]
     },
     "execution_count": 74,
     "metadata": {},
     "output_type": "execute_result"
    },
    {
     "data": {
      "image/png": "[encoded data removed]",
      "text/plain": [
       "<Figure size 432x288 with 1 Axes>"
      ]
     },
     "metadata": {
      "needs_background": "light"
     },
     "output_type": "display_data"
    }
   ],
   "source": [
    "aprout_df = pd.DataFrame(aprout)\n",
    "aprout_df.plot.line()"
   ]
  },
  {
   "cell_type": "raw",
   "metadata": {},
   "source": [
    "# {points,price}"
   ]
  },
  {
   "cell_type": "code",
   "execution_count": 75,
   "metadata": {},
   "outputs": [
    {
     "data": {
      "text/plain": [
       "[[18344, 9426, 2757, 3108],\n",
       " [9188, 14618, 11383, 9654],\n",
       " [2591, 6679, 7867, 12396],\n",
       " [0, 3675, 4815, 12487]]"
      ]
     },
     "execution_count": 75,
     "metadata": {},
     "output_type": "execute_result"
    }
   ],
   "source": [
    "aprout = [([0] * price_max) for i in range(points_max)]\n",
    "for num1 in range(1,points_max+1):\n",
    "    for num2 in range(1,price_max+1):\n",
    "        apr = wine_reviews_trans[(wine_reviews_trans['points_trans'] == num1) & (wine_reviews_trans['price_trans'] == num2)] \n",
    "        if len(apr.index) >= minsup:\n",
    "            aprout[num1 - 1][num2 - 1] = len(apr.index)\n",
    "aprout"
   ]
  },
  {
   "cell_type": "code",
   "execution_count": 76,
   "metadata": {},
   "outputs": [
    {
     "data": {
      "text/plain": [
       "<matplotlib.axes._subplots.AxesSubplot at 0x12bb2f0a3a0>"
      ]
     },
     "execution_count": 76,
     "metadata": {},
     "output_type": "execute_result"
    },
    {
     "data": {
      "image/png": "[encoded data removed]",
      "text/plain": [
       "<Figure size 432x288 with 1 Axes>"
      ]
     },
     "metadata": {
      "needs_background": "light"
     },
     "output_type": "display_data"
    }
   ],
   "source": [
    "aprout_df = pd.DataFrame(aprout)\n",
    "aprout_df.plot.line()"
   ]
  },
  {
   "cell_type": "markdown",
   "metadata": {},
   "source": [
    "# Result analysis"
   ]
  },
  {
   "cell_type": "raw",
   "metadata": {},
   "source": [
    "# US has the largest number and the most comprehensive variety in all aspects.\n",
    "# US is affected by a lot of taster, other countries mostly affected by a specific taster.\n",
    "# In addition to US, other countries each has its own preference of the type of grapes used to make the wine.\n",
    "# Different taster have different scoring strategies.\n",
    "# points and price are positively related."
   ]
  }
 ],
 "metadata": {
  "kernelspec": {
   "display_name": "Python 3",
   "language": "python",
   "name": "python3"
  },
  "language_info": {
   "codemirror_mode": {
    "name": "ipython",
    "version": 3
   },
   "file_extension": ".py",
   "mimetype": "text/x-python",
   "name": "python",
   "nbconvert_exporter": "python",
   "pygments_lexer": "ipython3",
   "version": "3.8.2"
  }
 },
 "nbformat": 4,
 "nbformat_minor": 4
}
